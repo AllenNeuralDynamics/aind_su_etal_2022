{
 "cells": [
  {
   "cell_type": "code",
   "execution_count": 1,
   "metadata": {},
   "outputs": [],
   "source": [
    "import numpy as np\n",
    "import pandas as pd\n",
    "import sys\n",
    "from pathlib import Path\n",
    "sys.path.append('..') \n",
    "import platform\n",
    "import os\n",
    "from pathlib import Path\n",
    "import shutil\n",
    "from pathlib import Path\n",
    "import shutil\n",
    "from utils.behavior.session_utils import load_session_df, parse_session_string\n",
    "from utils.behavior.lick_analysis import clean_up_licks, parse_lick_trains\n",
    "from scipy.io import loadmat\n",
    "from itertools import chain\n",
    "from matplotlib import pyplot as plt\n",
    "from IPython.display import display\n",
    "from scipy.signal import find_peaks\n",
    "from harp.clock import align_timestamps_to_anchor_points\n",
    "from utils.basics.data_org import *\n",
    "from utils.photometry.preprocessing import * \n",
    "from utils.photometry.plot_utils import align_signal_to_events, color_gradient, plot_FP_with_licks\n",
    "import numpy as np\n",
    "from scipy.signal import butter, filtfilt, medfilt\n",
    "from scipy.optimize import curve_fit\n",
    "import json\n",
    "from sklearn.linear_model import LinearRegression\n",
    "from matplotlib.gridspec import GridSpec\n",
    "import pickle\n",
    "from aind_fip_dff.utils.preprocess import batch_processing, tc_triexpfit\n",
    "from joblib import Parallel, delayed\n",
    "import matplotlib.pyplot as plt\n",
    "import time\n",
    "from contextlib import redirect_stdout\n",
    "# %matplotlib inline\n",
    "# %matplotlib widget"
   ]
  },
  {
   "cell_type": "markdown",
   "metadata": {},
   "source": [
    "### Signle session"
   ]
  },
  {
   "cell_type": "code",
   "execution_count": 8,
   "metadata": {},
   "outputs": [
    {
     "name": "stdout",
     "output_type": "stream",
     "text": [
      "Region mPFC recorded at fiber 0\n",
      "Region CrusI recorded at fiber 1\n",
      "Region LC recorded at fiber 2\n",
      "Region mPFC recorded at fiber 0\n",
      "Region CrusI recorded at fiber 1\n",
      "Region LC recorded at fiber 2\n",
      "Channel G:Region mPFC recorded at fiber 0\n",
      "Channel G:Region CrusI recorded at fiber 1\n",
      "Channel G:Region LC recorded at fiber 2\n",
      "Channel Iso:Region mPFC recorded at fiber 0\n",
      "Channel Iso:Region CrusI recorded at fiber 1\n",
      "Channel Iso:Region LC recorded at fiber 2\n"
     ]
    }
   ],
   "source": [
    "session = 'm699462d20240104'\n",
    "label = 'CombineWithKH'\n",
    "session_dir = parse_session_string(session)\n",
    "session_df, licks_L, licks_R = load_session_df(session)\n",
    "licks_L, licks_R, fig = clean_up_licks(licks_L, licks_R, plot=False)\n",
    "parsed_licks_L, _ = parse_lick_trains(licks_L)\n",
    "parsed_licks_R, _ = parse_lick_trains(licks_R)\n",
    "signal_region = load_session_FP(session, label, plot=False);\n",
    "signal_region_raw = load_session_FP_raw(session, label, plot=False);\n",
    "# signal_pre = preprocess_signal(session, label, fs = 20, lowcut = 0.1, fc = 9, xtol=1e-6, plot=True)"
   ]
  },
  {
   "cell_type": "markdown",
   "metadata": {},
   "source": [
    "#### Add CO version to current version"
   ]
  },
  {
   "cell_type": "code",
   "execution_count": null,
   "metadata": {},
   "outputs": [],
   "source": [
    "signal_region_prep_CO, params, figs = preprocess_signal_CO(session, label, plot=True, xtol=1e-10, methods=['tri-exp'])\n",
    "append_FP_data(session, label, signal_region_prep_CO, params)"
   ]
  },
  {
   "cell_type": "code",
   "execution_count": null,
   "metadata": {},
   "outputs": [
    {
     "name": "stdout",
     "output_type": "stream",
     "text": [
      "Loaded m699461d20231222_combined.pkl and m699461d20231222_combined_params.pkl\n",
      "Finished writing m699461d20231222_combined.pkl\n",
      "Finished writing m699461d20231222_combined_params.pkl\n"
     ]
    }
   ],
   "source": []
  },
  {
   "cell_type": "markdown",
   "metadata": {},
   "source": [
    "#### Load all preprocessed data"
   ]
  },
  {
   "cell_type": "code",
   "execution_count": null,
   "metadata": {},
   "outputs": [],
   "source": [
    "signal_region_prep_updated, params = get_FP_data(session, label)\n",
    "list(signal_region_prep_updated['G'].keys())"
   ]
  },
  {
   "cell_type": "markdown",
   "metadata": {},
   "source": [
    "### Batch processing"
   ]
  },
  {
   "cell_type": "code",
   "execution_count": 2,
   "metadata": {},
   "outputs": [],
   "source": [
    "session_list = get_session_list('photometry', 'all', 'crusIgood')\n",
    "label = 'CombineWithKH'"
   ]
  },
  {
   "cell_type": "code",
   "execution_count": 8,
   "metadata": {},
   "outputs": [],
   "source": [
    "session_list = get_session_list('photometry_Gi', 'all', 'Gi_G8')\n",
    "label = 'Gi'"
   ]
  },
  {
   "cell_type": "markdown",
   "metadata": {},
   "source": [
    "#### If there's no preprocessing at all"
   ]
  },
  {
   "cell_type": "code",
   "execution_count": 5,
   "metadata": {},
   "outputs": [
    {
     "name": "stdout",
     "output_type": "stream",
     "text": [
      "Loaded m699461d20231217_combined.pkl and m699461d20231217_combined_params.pkl\n",
      "Loaded m699461d20231218_combined.pkl and m699461d20231218_combined_params.pkl\n",
      "Loaded m699461d20231219_combined.pkl and m699461d20231219_combined_params.pkl\n",
      "Loaded m699461d20231220_combined.pkl and m699461d20231220_combined_params.pkl\n",
      "Loaded m699461d20231222_combined.pkl and m699461d20231222_combined_params.pkl\n",
      "Loaded m699461d20240102_combined.pkl and m699461d20240102_combined_params.pkl\n",
      "Loaded m699461d20240103_combined.pkl and m699461d20240103_combined_params.pkl\n",
      "Loaded m699461d20240104_combined.pkl and m699461d20240104_combined_params.pkl\n",
      "Loaded m699461d20240105_combined.pkl and m699461d20240105_combined_params.pkl\n",
      "Loaded m699461d20240106_combined.pkl and m699461d20240106_combined_params.pkl\n",
      "Loaded m699461d20240107_combined.pkl and m699461d20240107_combined_params.pkl\n",
      "Loaded m699461d20240116_combined.pkl and m699461d20240116_combined_params.pkl\n",
      "Loaded m699461d20240117_combined.pkl and m699461d20240117_combined_params.pkl\n",
      "Loaded m699462d20240103_combined.pkl and m699462d20240103_combined_params.pkl\n",
      "Loaded m699462d20240104_combined.pkl and m699462d20240104_combined_params.pkl\n",
      "Loaded m699462d20240106_combined.pkl and m699462d20240106_combined_params.pkl\n",
      "Loaded m699462d20240107_combined.pkl and m699462d20240107_combined_params.pkl\n",
      "Loaded m699462d20240108_combined.pkl and m699462d20240108_combined_params.pkl\n",
      "Loaded m699462d20240109_combined.pkl and m699462d20240109_combined_params.pkl\n",
      "Loaded m699462d20240111_combined.pkl and m699462d20240111_combined_params.pkl\n",
      "Loaded m699462d20240112_combined.pkl and m699462d20240112_combined_params.pkl\n",
      "Loaded m699462d20240113_combined.pkl and m699462d20240113_combined_params.pkl\n",
      "Loaded m699462d20240114_combined.pkl and m699462d20240114_combined_params.pkl\n",
      "Loaded m699462d20240116_combined.pkl and m699462d20240116_combined_params.pkl\n",
      "Loaded m699462d20240117_combined.pkl and m699462d20240117_combined_params.pkl\n",
      "Loaded m699472d20231221_combined.pkl and m699472d20231221_combined_params.pkl\n",
      "Loaded m699472d20231222_combined.pkl and m699472d20231222_combined_params.pkl\n",
      "Loaded m699472d20240102_combined.pkl and m699472d20240102_combined_params.pkl\n",
      "Loaded m699472d20240103_combined.pkl and m699472d20240103_combined_params.pkl\n",
      "Loaded m699472d20240104_combined.pkl and m699472d20240104_combined_params.pkl\n",
      "Loaded m699472d20240105_combined.pkl and m699472d20240105_combined_params.pkl\n",
      "Loaded m699472d20240106_combined.pkl and m699472d20240106_combined_params.pkl\n",
      "Loaded m699472d20240107_combined.pkl and m699472d20240107_combined_params.pkl\n",
      "Loaded m699472d20240108_combined.pkl and m699472d20240108_combined_params.pkl\n",
      "Loaded m699472d20240109_combined.pkl and m699472d20240109_combined_params.pkl\n",
      "Loaded m699472d20240110_combined.pkl and m699472d20240110_combined_params.pkl\n",
      "Loaded m699472d20240111_combined.pkl and m699472d20240111_combined_params.pkl\n",
      "Loaded m699472d20240112_combined.pkl and m699472d20240112_combined_params.pkl\n",
      "Loaded m699472d20240113_combined.pkl and m699472d20240113_combined_params.pkl\n",
      "Loaded m699472d20240114_combined.pkl and m699472d20240114_combined_params.pkl\n",
      "Loaded m699472d20240117_combined.pkl and m699472d20240117_combined_params.pkl\n",
      "Loaded m701707d20231221_combined.pkl and m701707d20231221_combined_params.pkl\n",
      "Loaded m701707d20231222_combined.pkl and m701707d20231222_combined_params.pkl\n",
      "Loaded m701707d20240103_combined.pkl and m701707d20240103_combined_params.pkl\n",
      "Loaded m701707d20240104_combined.pkl and m701707d20240104_combined_params.pkl\n",
      "Loaded m701707d20240105_combined.pkl and m701707d20240105_combined_params.pkl\n",
      "Loaded m701707d20240106_combined.pkl and m701707d20240106_combined_params.pkl\n",
      "Loaded m701707d20240112_combined.pkl and m701707d20240112_combined_params.pkl\n",
      "Loaded m701707d20240113_combined.pkl and m701707d20240113_combined_params.pkl\n",
      "Loaded m701707d20240114_combined.pkl and m701707d20240114_combined_params.pkl\n",
      "Loaded m701707d20240117_combined.pkl and m701707d20240117_combined_params.pkl\n"
     ]
    }
   ],
   "source": [
    "for session in session_list:\n",
    "    get_FP_data(session, label)"
   ]
  },
  {
   "cell_type": "markdown",
   "metadata": {},
   "source": [
    "#### If already preprocessed: Add CO version preprocessing to existing versions"
   ]
  },
  {
   "cell_type": "code",
   "execution_count": 9,
   "metadata": {},
   "outputs": [
    {
     "data": {
      "text/plain": [
       "[None,\n",
       " None,\n",
       " None,\n",
       " None,\n",
       " None,\n",
       " None,\n",
       " None,\n",
       " None,\n",
       " None,\n",
       " None,\n",
       " None,\n",
       " None,\n",
       " None,\n",
       " None,\n",
       " None,\n",
       " None,\n",
       " None,\n",
       " None,\n",
       " None,\n",
       " None,\n",
       " None,\n",
       " None,\n",
       " None,\n",
       " None,\n",
       " None,\n",
       " None,\n",
       " None,\n",
       " None,\n",
       " None,\n",
       " None,\n",
       " None,\n",
       " None,\n",
       " None,\n",
       " None,\n",
       " None,\n",
       " None,\n",
       " None,\n",
       " None,\n",
       " None,\n",
       " None]"
      ]
     },
     "execution_count": 9,
     "metadata": {},
     "output_type": "execute_result"
    }
   ],
   "source": [
    "def process_session(session):\n",
    "    start_time = time.time()  # Record start time\n",
    "    session_dir = parse_session_string(session)\n",
    "    \n",
    "    # Define the output file path\n",
    "    output_file = os.path.join(session_dir['sortedFolder'], f'{session}_output.txt')\n",
    "    \n",
    "    # Ensure the output directory exists\n",
    "    os.makedirs(session_dir['sortedFolder'], exist_ok=True)\n",
    "    \n",
    "    # Open the output file in append mode\n",
    "    with open(output_file, 'a') as f:\n",
    "        with redirect_stdout(f):  # Redirect all print statements to the file\n",
    "            print(f\"Processing {session}\")\n",
    "            try:\n",
    "                signal_region_prep_CO, params, figs = preprocess_signal_CO(session, label, plot=True, xtol=1e-8, methods=['tri-exp'])\n",
    "                append_FP_data(session, label, signal_region_prep_CO, params)\n",
    "                plt.close('all')\n",
    "                print(f\"Processing complete for {session}.\")\n",
    "\n",
    "            except Exception as e:\n",
    "                print(f\"An error occurred while processing {session}: {e}\")\n",
    "            finally:\n",
    "                # Log the processing time\n",
    "                end_time = time.time()\n",
    "                elapsed_time = end_time - start_time\n",
    "                print(f\"Processing time for {session}: {elapsed_time:.2f} seconds\")\n",
    "\n",
    "# Run in parallel using joblib\n",
    "Parallel(n_jobs=8)(delayed(process_session)(session) for session in session_list)\n",
    "# process_session(session_list[0])\n"
   ]
  },
  {
   "cell_type": "markdown",
   "metadata": {},
   "source": [
    "#### File migration"
   ]
  },
  {
   "cell_type": "code",
   "execution_count": 39,
   "metadata": {},
   "outputs": [
    {
     "name": "stdout",
     "output_type": "stream",
     "text": [
      "m699462d20240113\n",
      "Loaded m699462d20240113_FP_CombinewithKH.pkl\n",
      "Loaded m699462d20240113_FP_CombinewithKH.pkl\n",
      "Loaded m699462d20240113_FP_CombinewithKH.pkl\n",
      "Loaded m699462d20240113_FP_CombinewithKH.pkl\n",
      "m699462d20240114\n",
      "Loaded m699462d20240114_FP_CombinewithKH.pkl\n",
      "Loaded m699462d20240114_FP_CombinewithKH.pkl\n",
      "Loaded m699462d20240114_FP_CombinewithKH.pkl\n",
      "Loaded m699462d20240114_FP_CombinewithKH.pkl\n",
      "m699462d20240116\n",
      "Loaded m699462d20240116_FP_CombinewithKH.pkl\n",
      "Loaded m699462d20240116_FP_CombinewithKH.pkl\n",
      "Loaded m699462d20240116_FP_CombinewithKH.pkl\n",
      "Loaded m699462d20240116_FP_CombinewithKH.pkl\n",
      "m699462d20240117\n",
      "Loaded m699462d20240117_FP_CombinewithKH.pkl\n",
      "Loaded m699462d20240117_FP_CombinewithKH.pkl\n"
     ]
    },
    {
     "name": "stderr",
     "output_type": "stream",
     "text": [
      "c:\\Users\\zhixi\\Documents\\GitHub\\aind_su_etal_2022\\notebooks\\..\\utils\\photometry\\plot_utils.py:60: RuntimeWarning: Mean of empty slice\n",
      "  aligned_matrix[i, j] = np.nanmean(aligned_signal[window_mask])\n"
     ]
    },
    {
     "name": "stdout",
     "output_type": "stream",
     "text": [
      "Loaded m699462d20240117_FP_CombinewithKH.pkl\n"
     ]
    },
    {
     "name": "stderr",
     "output_type": "stream",
     "text": [
      "c:\\Users\\zhixi\\Documents\\GitHub\\aind_su_etal_2022\\notebooks\\..\\utils\\photometry\\plot_utils.py:60: RuntimeWarning: Mean of empty slice\n",
      "  aligned_matrix[i, j] = np.nanmean(aligned_signal[window_mask])\n"
     ]
    },
    {
     "name": "stdout",
     "output_type": "stream",
     "text": [
      "Loaded m699462d20240117_FP_CombinewithKH.pkl\n"
     ]
    },
    {
     "name": "stderr",
     "output_type": "stream",
     "text": [
      "c:\\Users\\zhixi\\Documents\\GitHub\\aind_su_etal_2022\\notebooks\\..\\utils\\photometry\\plot_utils.py:60: RuntimeWarning: Mean of empty slice\n",
      "  aligned_matrix[i, j] = np.nanmean(aligned_signal[window_mask])\n"
     ]
    },
    {
     "name": "stdout",
     "output_type": "stream",
     "text": [
      "m699472d20231221\n",
      "Loaded m699472d20231221_FP_CombinewithKH.pkl\n",
      "Loaded m699472d20231221_FP_CombinewithKH.pkl\n",
      "Loaded m699472d20231221_FP_CombinewithKH.pkl\n",
      "Loaded m699472d20231221_FP_CombinewithKH.pkl\n",
      "m699472d20231222\n",
      "Loaded m699472d20231222_FP_CombinewithKH.pkl\n",
      "Loaded m699472d20231222_FP_CombinewithKH.pkl\n"
     ]
    },
    {
     "name": "stderr",
     "output_type": "stream",
     "text": [
      "c:\\Users\\zhixi\\Documents\\GitHub\\aind_su_etal_2022\\notebooks\\..\\utils\\photometry\\plot_utils.py:60: RuntimeWarning: Mean of empty slice\n",
      "  aligned_matrix[i, j] = np.nanmean(aligned_signal[window_mask])\n"
     ]
    },
    {
     "name": "stdout",
     "output_type": "stream",
     "text": [
      "Loaded m699472d20231222_FP_CombinewithKH.pkl\n"
     ]
    },
    {
     "name": "stderr",
     "output_type": "stream",
     "text": [
      "c:\\Users\\zhixi\\Documents\\GitHub\\aind_su_etal_2022\\notebooks\\..\\utils\\photometry\\plot_utils.py:60: RuntimeWarning: Mean of empty slice\n",
      "  aligned_matrix[i, j] = np.nanmean(aligned_signal[window_mask])\n"
     ]
    },
    {
     "name": "stdout",
     "output_type": "stream",
     "text": [
      "Loaded m699472d20231222_FP_CombinewithKH.pkl\n"
     ]
    },
    {
     "name": "stderr",
     "output_type": "stream",
     "text": [
      "c:\\Users\\zhixi\\Documents\\GitHub\\aind_su_etal_2022\\notebooks\\..\\utils\\photometry\\plot_utils.py:60: RuntimeWarning: Mean of empty slice\n",
      "  aligned_matrix[i, j] = np.nanmean(aligned_signal[window_mask])\n"
     ]
    },
    {
     "name": "stdout",
     "output_type": "stream",
     "text": [
      "m699472d20240102\n",
      "Loaded m699472d20240102_FP_CombinewithKH.pkl\n",
      "Loaded m699472d20240102_FP_CombinewithKH.pkl\n"
     ]
    },
    {
     "name": "stderr",
     "output_type": "stream",
     "text": [
      "c:\\Users\\zhixi\\Documents\\GitHub\\aind_su_etal_2022\\notebooks\\..\\utils\\photometry\\plot_utils.py:60: RuntimeWarning: Mean of empty slice\n",
      "  aligned_matrix[i, j] = np.nanmean(aligned_signal[window_mask])\n"
     ]
    },
    {
     "name": "stdout",
     "output_type": "stream",
     "text": [
      "Loaded m699472d20240102_FP_CombinewithKH.pkl\n"
     ]
    },
    {
     "name": "stderr",
     "output_type": "stream",
     "text": [
      "c:\\Users\\zhixi\\Documents\\GitHub\\aind_su_etal_2022\\notebooks\\..\\utils\\photometry\\plot_utils.py:60: RuntimeWarning: Mean of empty slice\n",
      "  aligned_matrix[i, j] = np.nanmean(aligned_signal[window_mask])\n"
     ]
    },
    {
     "name": "stdout",
     "output_type": "stream",
     "text": [
      "Loaded m699472d20240102_FP_CombinewithKH.pkl\n"
     ]
    },
    {
     "name": "stderr",
     "output_type": "stream",
     "text": [
      "c:\\Users\\zhixi\\Documents\\GitHub\\aind_su_etal_2022\\notebooks\\..\\utils\\photometry\\plot_utils.py:60: RuntimeWarning: Mean of empty slice\n",
      "  aligned_matrix[i, j] = np.nanmean(aligned_signal[window_mask])\n"
     ]
    },
    {
     "name": "stdout",
     "output_type": "stream",
     "text": [
      "m699472d20240103\n",
      "Loaded m699472d20240103_FP_CombinewithKH.pkl\n",
      "Loaded m699472d20240103_FP_CombinewithKH.pkl\n"
     ]
    },
    {
     "name": "stderr",
     "output_type": "stream",
     "text": [
      "c:\\Users\\zhixi\\Documents\\GitHub\\aind_su_etal_2022\\notebooks\\..\\utils\\photometry\\plot_utils.py:60: RuntimeWarning: Mean of empty slice\n",
      "  aligned_matrix[i, j] = np.nanmean(aligned_signal[window_mask])\n"
     ]
    },
    {
     "name": "stdout",
     "output_type": "stream",
     "text": [
      "Loaded m699472d20240103_FP_CombinewithKH.pkl\n"
     ]
    },
    {
     "name": "stderr",
     "output_type": "stream",
     "text": [
      "c:\\Users\\zhixi\\Documents\\GitHub\\aind_su_etal_2022\\notebooks\\..\\utils\\photometry\\plot_utils.py:60: RuntimeWarning: Mean of empty slice\n",
      "  aligned_matrix[i, j] = np.nanmean(aligned_signal[window_mask])\n"
     ]
    },
    {
     "name": "stdout",
     "output_type": "stream",
     "text": [
      "Loaded m699472d20240103_FP_CombinewithKH.pkl\n"
     ]
    },
    {
     "name": "stderr",
     "output_type": "stream",
     "text": [
      "c:\\Users\\zhixi\\Documents\\GitHub\\aind_su_etal_2022\\notebooks\\..\\utils\\photometry\\plot_utils.py:60: RuntimeWarning: Mean of empty slice\n",
      "  aligned_matrix[i, j] = np.nanmean(aligned_signal[window_mask])\n"
     ]
    },
    {
     "name": "stdout",
     "output_type": "stream",
     "text": [
      "m699472d20240104\n",
      "Loaded m699472d20240104_FP_CombinewithKH.pkl\n",
      "Loaded m699472d20240104_FP_CombinewithKH.pkl\n",
      "Loaded m699472d20240104_FP_CombinewithKH.pkl\n",
      "Loaded m699472d20240104_FP_CombinewithKH.pkl\n",
      "m699472d20240105\n",
      "Loaded m699472d20240105_FP_CombinewithKH.pkl\n",
      "Loaded m699472d20240105_FP_CombinewithKH.pkl\n"
     ]
    },
    {
     "name": "stderr",
     "output_type": "stream",
     "text": [
      "c:\\Users\\zhixi\\Documents\\GitHub\\aind_su_etal_2022\\notebooks\\..\\utils\\photometry\\plot_utils.py:60: RuntimeWarning: Mean of empty slice\n",
      "  aligned_matrix[i, j] = np.nanmean(aligned_signal[window_mask])\n"
     ]
    },
    {
     "name": "stdout",
     "output_type": "stream",
     "text": [
      "Loaded m699472d20240105_FP_CombinewithKH.pkl\n"
     ]
    },
    {
     "name": "stderr",
     "output_type": "stream",
     "text": [
      "c:\\Users\\zhixi\\Documents\\GitHub\\aind_su_etal_2022\\notebooks\\..\\utils\\photometry\\plot_utils.py:60: RuntimeWarning: Mean of empty slice\n",
      "  aligned_matrix[i, j] = np.nanmean(aligned_signal[window_mask])\n"
     ]
    },
    {
     "name": "stdout",
     "output_type": "stream",
     "text": [
      "Loaded m699472d20240105_FP_CombinewithKH.pkl\n"
     ]
    },
    {
     "name": "stderr",
     "output_type": "stream",
     "text": [
      "c:\\Users\\zhixi\\Documents\\GitHub\\aind_su_etal_2022\\notebooks\\..\\utils\\photometry\\plot_utils.py:60: RuntimeWarning: Mean of empty slice\n",
      "  aligned_matrix[i, j] = np.nanmean(aligned_signal[window_mask])\n"
     ]
    },
    {
     "name": "stdout",
     "output_type": "stream",
     "text": [
      "m699472d20240106\n",
      "Loaded m699472d20240106_FP_CombinewithKH.pkl\n",
      "Loaded m699472d20240106_FP_CombinewithKH.pkl\n",
      "Loaded m699472d20240106_FP_CombinewithKH.pkl\n",
      "Loaded m699472d20240106_FP_CombinewithKH.pkl\n",
      "m699472d20240107\n",
      "Loaded m699472d20240107_FP_CombinewithKH.pkl\n",
      "Loaded m699472d20240107_FP_CombinewithKH.pkl\n"
     ]
    },
    {
     "name": "stderr",
     "output_type": "stream",
     "text": [
      "c:\\Users\\zhixi\\Documents\\GitHub\\aind_su_etal_2022\\notebooks\\..\\utils\\photometry\\plot_utils.py:60: RuntimeWarning: Mean of empty slice\n",
      "  aligned_matrix[i, j] = np.nanmean(aligned_signal[window_mask])\n"
     ]
    },
    {
     "name": "stdout",
     "output_type": "stream",
     "text": [
      "Loaded m699472d20240107_FP_CombinewithKH.pkl\n"
     ]
    },
    {
     "name": "stderr",
     "output_type": "stream",
     "text": [
      "c:\\Users\\zhixi\\Documents\\GitHub\\aind_su_etal_2022\\notebooks\\..\\utils\\photometry\\plot_utils.py:60: RuntimeWarning: Mean of empty slice\n",
      "  aligned_matrix[i, j] = np.nanmean(aligned_signal[window_mask])\n"
     ]
    },
    {
     "name": "stdout",
     "output_type": "stream",
     "text": [
      "Loaded m699472d20240107_FP_CombinewithKH.pkl\n"
     ]
    },
    {
     "name": "stderr",
     "output_type": "stream",
     "text": [
      "c:\\Users\\zhixi\\Documents\\GitHub\\aind_su_etal_2022\\notebooks\\..\\utils\\photometry\\plot_utils.py:60: RuntimeWarning: Mean of empty slice\n",
      "  aligned_matrix[i, j] = np.nanmean(aligned_signal[window_mask])\n"
     ]
    },
    {
     "name": "stdout",
     "output_type": "stream",
     "text": [
      "m699472d20240108\n",
      "Loaded m699472d20240108_FP_CombinewithKH.pkl\n",
      "Loaded m699472d20240108_FP_CombinewithKH.pkl\n"
     ]
    },
    {
     "name": "stderr",
     "output_type": "stream",
     "text": [
      "c:\\Users\\zhixi\\Documents\\GitHub\\aind_su_etal_2022\\notebooks\\..\\utils\\photometry\\plot_utils.py:60: RuntimeWarning: Mean of empty slice\n",
      "  aligned_matrix[i, j] = np.nanmean(aligned_signal[window_mask])\n"
     ]
    },
    {
     "name": "stdout",
     "output_type": "stream",
     "text": [
      "Loaded m699472d20240108_FP_CombinewithKH.pkl\n"
     ]
    },
    {
     "name": "stderr",
     "output_type": "stream",
     "text": [
      "c:\\Users\\zhixi\\Documents\\GitHub\\aind_su_etal_2022\\notebooks\\..\\utils\\photometry\\plot_utils.py:60: RuntimeWarning: Mean of empty slice\n",
      "  aligned_matrix[i, j] = np.nanmean(aligned_signal[window_mask])\n"
     ]
    },
    {
     "name": "stdout",
     "output_type": "stream",
     "text": [
      "Loaded m699472d20240108_FP_CombinewithKH.pkl\n"
     ]
    },
    {
     "name": "stderr",
     "output_type": "stream",
     "text": [
      "c:\\Users\\zhixi\\Documents\\GitHub\\aind_su_etal_2022\\notebooks\\..\\utils\\photometry\\plot_utils.py:60: RuntimeWarning: Mean of empty slice\n",
      "  aligned_matrix[i, j] = np.nanmean(aligned_signal[window_mask])\n"
     ]
    },
    {
     "name": "stdout",
     "output_type": "stream",
     "text": [
      "m699472d20240109\n",
      "Loaded m699472d20240109_FP_CombinewithKH.pkl\n",
      "Loaded m699472d20240109_FP_CombinewithKH.pkl\n",
      "Loaded m699472d20240109_FP_CombinewithKH.pkl\n",
      "Loaded m699472d20240109_FP_CombinewithKH.pkl\n",
      "m699472d20240110\n",
      "Loaded m699472d20240110_FP_CombinewithKH.pkl\n",
      "Loaded m699472d20240110_FP_CombinewithKH.pkl\n",
      "Loaded m699472d20240110_FP_CombinewithKH.pkl\n",
      "Loaded m699472d20240110_FP_CombinewithKH.pkl\n",
      "m699472d20240111\n",
      "Loaded m699472d20240111_FP_CombinewithKH.pkl\n",
      "Loaded m699472d20240111_FP_CombinewithKH.pkl\n",
      "Loaded m699472d20240111_FP_CombinewithKH.pkl\n",
      "Loaded m699472d20240111_FP_CombinewithKH.pkl\n",
      "m699472d20240112\n",
      "Loaded m699472d20240112_FP_CombinewithKH.pkl\n",
      "Loaded m699472d20240112_FP_CombinewithKH.pkl\n"
     ]
    },
    {
     "name": "stderr",
     "output_type": "stream",
     "text": [
      "c:\\Users\\zhixi\\Documents\\GitHub\\aind_su_etal_2022\\notebooks\\..\\utils\\photometry\\plot_utils.py:60: RuntimeWarning: Mean of empty slice\n",
      "  aligned_matrix[i, j] = np.nanmean(aligned_signal[window_mask])\n"
     ]
    },
    {
     "name": "stdout",
     "output_type": "stream",
     "text": [
      "Loaded m699472d20240112_FP_CombinewithKH.pkl\n"
     ]
    },
    {
     "name": "stderr",
     "output_type": "stream",
     "text": [
      "c:\\Users\\zhixi\\Documents\\GitHub\\aind_su_etal_2022\\notebooks\\..\\utils\\photometry\\plot_utils.py:60: RuntimeWarning: Mean of empty slice\n",
      "  aligned_matrix[i, j] = np.nanmean(aligned_signal[window_mask])\n"
     ]
    },
    {
     "name": "stdout",
     "output_type": "stream",
     "text": [
      "Loaded m699472d20240112_FP_CombinewithKH.pkl\n"
     ]
    },
    {
     "name": "stderr",
     "output_type": "stream",
     "text": [
      "c:\\Users\\zhixi\\Documents\\GitHub\\aind_su_etal_2022\\notebooks\\..\\utils\\photometry\\plot_utils.py:60: RuntimeWarning: Mean of empty slice\n",
      "  aligned_matrix[i, j] = np.nanmean(aligned_signal[window_mask])\n"
     ]
    },
    {
     "name": "stdout",
     "output_type": "stream",
     "text": [
      "m699472d20240113\n",
      "Loaded m699472d20240113_FP_CombinewithKH.pkl\n",
      "Loaded m699472d20240113_FP_CombinewithKH.pkl\n"
     ]
    },
    {
     "name": "stderr",
     "output_type": "stream",
     "text": [
      "c:\\Users\\zhixi\\Documents\\GitHub\\aind_su_etal_2022\\notebooks\\..\\utils\\photometry\\plot_utils.py:60: RuntimeWarning: Mean of empty slice\n",
      "  aligned_matrix[i, j] = np.nanmean(aligned_signal[window_mask])\n"
     ]
    },
    {
     "name": "stdout",
     "output_type": "stream",
     "text": [
      "Loaded m699472d20240113_FP_CombinewithKH.pkl\n"
     ]
    },
    {
     "name": "stderr",
     "output_type": "stream",
     "text": [
      "c:\\Users\\zhixi\\Documents\\GitHub\\aind_su_etal_2022\\notebooks\\..\\utils\\photometry\\plot_utils.py:60: RuntimeWarning: Mean of empty slice\n",
      "  aligned_matrix[i, j] = np.nanmean(aligned_signal[window_mask])\n"
     ]
    },
    {
     "name": "stdout",
     "output_type": "stream",
     "text": [
      "Loaded m699472d20240113_FP_CombinewithKH.pkl\n"
     ]
    },
    {
     "name": "stderr",
     "output_type": "stream",
     "text": [
      "c:\\Users\\zhixi\\Documents\\GitHub\\aind_su_etal_2022\\notebooks\\..\\utils\\photometry\\plot_utils.py:60: RuntimeWarning: Mean of empty slice\n",
      "  aligned_matrix[i, j] = np.nanmean(aligned_signal[window_mask])\n"
     ]
    },
    {
     "name": "stdout",
     "output_type": "stream",
     "text": [
      "m699472d20240114\n",
      "Loaded m699472d20240114_FP_CombinewithKH.pkl\n",
      "Loaded m699472d20240114_FP_CombinewithKH.pkl\n"
     ]
    },
    {
     "name": "stderr",
     "output_type": "stream",
     "text": [
      "c:\\Users\\zhixi\\Documents\\GitHub\\aind_su_etal_2022\\notebooks\\..\\utils\\photometry\\plot_utils.py:62: RuntimeWarning: Mean of empty slice\n",
      "  mean_psth = np.nanmean(aligned_matrix, axis=0)\n",
      "c:\\Users\\zhixi\\Anaconda3\\envs\\playGround\\lib\\site-packages\\numpy\\lib\\nanfunctions.py:1872: RuntimeWarning: Degrees of freedom <= 0 for slice.\n",
      "  var = nanvar(a, axis=axis, dtype=dtype, out=out, ddof=ddof,\n"
     ]
    },
    {
     "name": "stdout",
     "output_type": "stream",
     "text": [
      "Loaded m699472d20240114_FP_CombinewithKH.pkl\n"
     ]
    },
    {
     "name": "stderr",
     "output_type": "stream",
     "text": [
      "c:\\Users\\zhixi\\Documents\\GitHub\\aind_su_etal_2022\\notebooks\\..\\utils\\photometry\\plot_utils.py:62: RuntimeWarning: Mean of empty slice\n",
      "  mean_psth = np.nanmean(aligned_matrix, axis=0)\n",
      "c:\\Users\\zhixi\\Anaconda3\\envs\\playGround\\lib\\site-packages\\numpy\\lib\\nanfunctions.py:1872: RuntimeWarning: Degrees of freedom <= 0 for slice.\n",
      "  var = nanvar(a, axis=axis, dtype=dtype, out=out, ddof=ddof,\n"
     ]
    },
    {
     "name": "stdout",
     "output_type": "stream",
     "text": [
      "Loaded m699472d20240114_FP_CombinewithKH.pkl\n"
     ]
    },
    {
     "name": "stderr",
     "output_type": "stream",
     "text": [
      "c:\\Users\\zhixi\\Documents\\GitHub\\aind_su_etal_2022\\notebooks\\..\\utils\\photometry\\plot_utils.py:62: RuntimeWarning: Mean of empty slice\n",
      "  mean_psth = np.nanmean(aligned_matrix, axis=0)\n",
      "c:\\Users\\zhixi\\Anaconda3\\envs\\playGround\\lib\\site-packages\\numpy\\lib\\nanfunctions.py:1872: RuntimeWarning: Degrees of freedom <= 0 for slice.\n",
      "  var = nanvar(a, axis=axis, dtype=dtype, out=out, ddof=ddof,\n"
     ]
    },
    {
     "name": "stdout",
     "output_type": "stream",
     "text": [
      "m699472d20240117\n",
      "Loaded m699472d20240117_FP_CombinewithKH.pkl\n",
      "Loaded m699472d20240117_FP_CombinewithKH.pkl\n"
     ]
    },
    {
     "name": "stderr",
     "output_type": "stream",
     "text": [
      "c:\\Users\\zhixi\\Documents\\GitHub\\aind_su_etal_2022\\notebooks\\..\\utils\\photometry\\plot_utils.py:60: RuntimeWarning: Mean of empty slice\n",
      "  aligned_matrix[i, j] = np.nanmean(aligned_signal[window_mask])\n"
     ]
    },
    {
     "name": "stdout",
     "output_type": "stream",
     "text": [
      "Loaded m699472d20240117_FP_CombinewithKH.pkl\n"
     ]
    },
    {
     "name": "stderr",
     "output_type": "stream",
     "text": [
      "c:\\Users\\zhixi\\Documents\\GitHub\\aind_su_etal_2022\\notebooks\\..\\utils\\photometry\\plot_utils.py:60: RuntimeWarning: Mean of empty slice\n",
      "  aligned_matrix[i, j] = np.nanmean(aligned_signal[window_mask])\n"
     ]
    },
    {
     "name": "stdout",
     "output_type": "stream",
     "text": [
      "Loaded m699472d20240117_FP_CombinewithKH.pkl\n"
     ]
    },
    {
     "name": "stderr",
     "output_type": "stream",
     "text": [
      "c:\\Users\\zhixi\\Documents\\GitHub\\aind_su_etal_2022\\notebooks\\..\\utils\\photometry\\plot_utils.py:60: RuntimeWarning: Mean of empty slice\n",
      "  aligned_matrix[i, j] = np.nanmean(aligned_signal[window_mask])\n"
     ]
    },
    {
     "name": "stdout",
     "output_type": "stream",
     "text": [
      "m701707d20231221\n",
      "Loaded m701707d20231221_FP_CombinewithKH.pkl\n",
      "Loaded m701707d20231221_FP_CombinewithKH.pkl\n"
     ]
    },
    {
     "name": "stderr",
     "output_type": "stream",
     "text": [
      "c:\\Users\\zhixi\\Documents\\GitHub\\aind_su_etal_2022\\notebooks\\..\\utils\\photometry\\plot_utils.py:60: RuntimeWarning: Mean of empty slice\n",
      "  aligned_matrix[i, j] = np.nanmean(aligned_signal[window_mask])\n"
     ]
    },
    {
     "name": "stdout",
     "output_type": "stream",
     "text": [
      "Loaded m701707d20231221_FP_CombinewithKH.pkl\n"
     ]
    },
    {
     "name": "stderr",
     "output_type": "stream",
     "text": [
      "c:\\Users\\zhixi\\Documents\\GitHub\\aind_su_etal_2022\\notebooks\\..\\utils\\photometry\\plot_utils.py:60: RuntimeWarning: Mean of empty slice\n",
      "  aligned_matrix[i, j] = np.nanmean(aligned_signal[window_mask])\n"
     ]
    },
    {
     "name": "stdout",
     "output_type": "stream",
     "text": [
      "Loaded m701707d20231221_FP_CombinewithKH.pkl\n"
     ]
    },
    {
     "name": "stderr",
     "output_type": "stream",
     "text": [
      "c:\\Users\\zhixi\\Documents\\GitHub\\aind_su_etal_2022\\notebooks\\..\\utils\\photometry\\plot_utils.py:60: RuntimeWarning: Mean of empty slice\n",
      "  aligned_matrix[i, j] = np.nanmean(aligned_signal[window_mask])\n"
     ]
    },
    {
     "name": "stdout",
     "output_type": "stream",
     "text": [
      "m701707d20231222\n",
      "Loaded m701707d20231222_FP_CombinewithKH.pkl\n",
      "Loaded m701707d20231222_FP_CombinewithKH.pkl\n",
      "Loaded m701707d20231222_FP_CombinewithKH.pkl\n",
      "Loaded m701707d20231222_FP_CombinewithKH.pkl\n",
      "m701707d20240103\n",
      "Loaded m701707d20240103_FP_CombinewithKH.pkl\n",
      "Loaded m701707d20240103_FP_CombinewithKH.pkl\n"
     ]
    },
    {
     "name": "stderr",
     "output_type": "stream",
     "text": [
      "c:\\Users\\zhixi\\Documents\\GitHub\\aind_su_etal_2022\\notebooks\\..\\utils\\photometry\\plot_utils.py:60: RuntimeWarning: Mean of empty slice\n",
      "  aligned_matrix[i, j] = np.nanmean(aligned_signal[window_mask])\n"
     ]
    },
    {
     "name": "stdout",
     "output_type": "stream",
     "text": [
      "Loaded m701707d20240103_FP_CombinewithKH.pkl\n"
     ]
    },
    {
     "name": "stderr",
     "output_type": "stream",
     "text": [
      "c:\\Users\\zhixi\\Documents\\GitHub\\aind_su_etal_2022\\notebooks\\..\\utils\\photometry\\plot_utils.py:60: RuntimeWarning: Mean of empty slice\n",
      "  aligned_matrix[i, j] = np.nanmean(aligned_signal[window_mask])\n"
     ]
    },
    {
     "name": "stdout",
     "output_type": "stream",
     "text": [
      "Loaded m701707d20240103_FP_CombinewithKH.pkl\n"
     ]
    },
    {
     "name": "stderr",
     "output_type": "stream",
     "text": [
      "c:\\Users\\zhixi\\Documents\\GitHub\\aind_su_etal_2022\\notebooks\\..\\utils\\photometry\\plot_utils.py:60: RuntimeWarning: Mean of empty slice\n",
      "  aligned_matrix[i, j] = np.nanmean(aligned_signal[window_mask])\n"
     ]
    },
    {
     "name": "stdout",
     "output_type": "stream",
     "text": [
      "m701707d20240104\n",
      "Loaded m701707d20240104_FP_CombinewithKH.pkl\n",
      "Loaded m701707d20240104_FP_CombinewithKH.pkl\n",
      "Loaded m701707d20240104_FP_CombinewithKH.pkl\n",
      "Loaded m701707d20240104_FP_CombinewithKH.pkl\n",
      "m701707d20240105\n",
      "Loaded m701707d20240105_FP_CombinewithKH.pkl\n",
      "Loaded m701707d20240105_FP_CombinewithKH.pkl\n"
     ]
    },
    {
     "name": "stderr",
     "output_type": "stream",
     "text": [
      "c:\\Users\\zhixi\\Documents\\GitHub\\aind_su_etal_2022\\notebooks\\..\\utils\\photometry\\plot_utils.py:60: RuntimeWarning: Mean of empty slice\n",
      "  aligned_matrix[i, j] = np.nanmean(aligned_signal[window_mask])\n"
     ]
    },
    {
     "name": "stdout",
     "output_type": "stream",
     "text": [
      "Loaded m701707d20240105_FP_CombinewithKH.pkl\n"
     ]
    },
    {
     "name": "stderr",
     "output_type": "stream",
     "text": [
      "c:\\Users\\zhixi\\Documents\\GitHub\\aind_su_etal_2022\\notebooks\\..\\utils\\photometry\\plot_utils.py:60: RuntimeWarning: Mean of empty slice\n",
      "  aligned_matrix[i, j] = np.nanmean(aligned_signal[window_mask])\n"
     ]
    },
    {
     "name": "stdout",
     "output_type": "stream",
     "text": [
      "Loaded m701707d20240105_FP_CombinewithKH.pkl\n"
     ]
    },
    {
     "name": "stderr",
     "output_type": "stream",
     "text": [
      "c:\\Users\\zhixi\\Documents\\GitHub\\aind_su_etal_2022\\notebooks\\..\\utils\\photometry\\plot_utils.py:60: RuntimeWarning: Mean of empty slice\n",
      "  aligned_matrix[i, j] = np.nanmean(aligned_signal[window_mask])\n"
     ]
    },
    {
     "name": "stdout",
     "output_type": "stream",
     "text": [
      "m701707d20240106\n",
      "Loaded m701707d20240106_FP_CombinewithKH.pkl\n",
      "Loaded m701707d20240106_FP_CombinewithKH.pkl\n",
      "Loaded m701707d20240106_FP_CombinewithKH.pkl\n",
      "Loaded m701707d20240106_FP_CombinewithKH.pkl\n",
      "m701707d20240112\n",
      "Loaded m701707d20240112_FP_CombinewithKH.pkl\n",
      "Loaded m701707d20240112_FP_CombinewithKH.pkl\n",
      "Loaded m701707d20240112_FP_CombinewithKH.pkl\n",
      "Loaded m701707d20240112_FP_CombinewithKH.pkl\n",
      "m701707d20240113\n",
      "Loaded m701707d20240113_FP_CombinewithKH.pkl\n",
      "Loaded m701707d20240113_FP_CombinewithKH.pkl\n",
      "Loaded m701707d20240113_FP_CombinewithKH.pkl\n",
      "Loaded m701707d20240113_FP_CombinewithKH.pkl\n",
      "m701707d20240114\n",
      "Loaded m701707d20240114_FP_CombinewithKH.pkl\n",
      "Loaded m701707d20240114_FP_CombinewithKH.pkl\n",
      "Loaded m701707d20240114_FP_CombinewithKH.pkl\n",
      "Loaded m701707d20240114_FP_CombinewithKH.pkl\n",
      "m701707d20240117\n",
      "Loaded m701707d20240117_FP_CombinewithKH.pkl\n",
      "Loaded m701707d20240117_FP_CombinewithKH.pkl\n",
      "Loaded m701707d20240117_FP_CombinewithKH.pkl\n",
      "Loaded m701707d20240117_FP_CombinewithKH.pkl\n"
     ]
    }
   ],
   "source": [
    "# file migration from pickle to json\n",
    "for session in session_list:\n",
    "    print(session)\n",
    "    session_dir = parse_session_string(session)\n",
    "    old_file = os.path.join(session_dir['sortedFolder'], f'{session}_combined_params.pkl')\n",
    "    with open(old_file, 'rb') as f:\n",
    "        old_params = pickle.load(f)\n",
    "    new_file = os.path.join(session_dir['sortedFolder'], f'{session}_combined_params_updated.json')\n",
    "    with open(new_file, 'w') as f:\n",
    "        json.dump(old_params, f)\n",
    "    print(f'Finished changing {session}')"
   ]
  },
  {
   "cell_type": "code",
   "execution_count": 19,
   "metadata": {},
   "outputs": [
    {
     "name": "stdout",
     "output_type": "stream",
     "text": [
      "Finished moving m749624d20250102_combined.pkl\n",
      "Finished moving m749624d20250102_combined_params.pkl\n",
      "Finished moving m749624d20250103_combined.pkl\n",
      "Finished moving m749624d20250103_combined_params.pkl\n",
      "Finished moving m749624d20250104_combined.pkl\n",
      "Finished moving m749624d20250104_combined_params.pkl\n",
      "Finished moving m749624d20250107_combined.pkl\n",
      "Finished moving m749624d20250107_combined_params.pkl\n",
      "Finished moving m749624d20250109_combined.pkl\n",
      "Finished moving m749624d20250109_combined_params.pkl\n",
      "Finished moving m749472d20241228_combined.pkl\n",
      "Finished moving m749472d20241228_combined_params.pkl\n",
      "Finished moving m749472d20241230_combined.pkl\n",
      "Finished moving m749472d20241230_combined_params.pkl\n",
      "Finished moving m749472d20241231_combined.pkl\n",
      "Finished moving m749472d20241231_combined_params.pkl\n",
      "Finished moving m749472d20250101_combined.pkl\n",
      "Finished moving m749472d20250101_combined_params.pkl\n",
      "Finished moving m749472d20250103_combined.pkl\n",
      "Finished moving m749472d20250103_combined_params.pkl\n",
      "Finished moving m749472d20250104_combined.pkl\n",
      "Finished moving m749472d20250104_combined_params.pkl\n",
      "Finished moving m749472d20250106_combined.pkl\n",
      "Finished moving m749472d20250106_combined_params.pkl\n",
      "Finished moving m749472d20250108_combined.pkl\n",
      "Finished moving m749472d20250108_combined_params.pkl\n",
      "Finished moving m749472d20250109_combined.pkl\n",
      "Finished moving m749472d20250109_combined_params.pkl\n",
      "Finished moving m754895d20250101_combined.pkl\n",
      "Finished moving m754895d20250101_combined_params.pkl\n",
      "Finished moving m754895d20250102_combined.pkl\n",
      "Finished moving m754895d20250102_combined_params.pkl\n",
      "Finished moving m754895d20250103_combined.pkl\n",
      "Finished moving m754895d20250103_combined_params.pkl\n",
      "Finished moving m754895d20250104_combined.pkl\n",
      "Finished moving m754895d20250104_combined_params.pkl\n",
      "Finished moving m754895d20250106_combined.pkl\n",
      "Finished moving m754895d20250106_combined_params.pkl\n",
      "Finished moving m754895d20250107_combined.pkl\n",
      "Finished moving m754895d20250107_combined_params.pkl\n",
      "Finished moving m754895d20250108_combined.pkl\n",
      "Finished moving m754895d20250108_combined_params.pkl\n",
      "Finished moving m754895d20250109_combined.pkl\n",
      "Finished moving m754895d20250109_combined_params.pkl\n",
      "Finished moving m754895d20241231_combined.pkl\n",
      "Finished moving m754895d20241231_combined_params.pkl\n",
      "Finished moving m754896d20250102_combined.pkl\n",
      "Finished moving m754896d20250102_combined_params.pkl\n",
      "Finished moving m754896d20250103_combined.pkl\n",
      "Finished moving m754896d20250103_combined_params.pkl\n",
      "Finished moving m754896d20250104_combined.pkl\n",
      "Finished moving m754896d20250104_combined_params.pkl\n",
      "Finished moving m754896d20250106_combined.pkl\n",
      "Finished moving m754896d20250106_combined_params.pkl\n",
      "Finished moving m754896d20250107_combined.pkl\n",
      "Finished moving m754896d20250107_combined_params.pkl\n",
      "Finished moving m754896d20250108_combined.pkl\n",
      "Finished moving m754896d20250108_combined_params.pkl\n",
      "Finished moving m754896d20250109_combined.pkl\n",
      "Finished moving m754896d20250109_combined_params.pkl\n",
      "Finished moving m754898d20241226_combined.pkl\n",
      "Finished moving m754898d20241226_combined_params.pkl\n",
      "Finished moving m754898d20241228_combined.pkl\n",
      "Finished moving m754898d20241228_combined_params.pkl\n",
      "Finished moving m754898d20241230_combined.pkl\n",
      "Finished moving m754898d20241230_combined_params.pkl\n",
      "Finished moving m754898d20250101_combined.pkl\n",
      "Finished moving m754898d20250101_combined_params.pkl\n",
      "Finished moving m754898d20250102_combined.pkl\n",
      "Finished moving m754898d20250102_combined_params.pkl\n",
      "Finished moving m754898d20250104_combined.pkl\n",
      "Finished moving m754898d20250104_combined_params.pkl\n",
      "Finished moving m754898d20250106_combined.pkl\n",
      "Finished moving m754898d20250106_combined_params.pkl\n",
      "Finished moving m754898d20250107_combined.pkl\n",
      "Finished moving m754898d20250107_combined_params.pkl\n",
      "Finished moving m754898d20250108_combined.pkl\n",
      "Finished moving m754898d20250108_combined_params.pkl\n",
      "Finished moving m754898d20250109_combined.pkl\n",
      "Finished moving m754898d20250109_combined_params.pkl\n"
     ]
    }
   ],
   "source": [
    "# File migration between locations\n",
    "for session in session_list:\n",
    "    session_dir = parse_session_string(session)\n",
    "    # move signal\n",
    "    old_file = os.path.join(session_dir['photometryPath'], f'{session}_combined.pkl')\n",
    "    new_folder = session_dir['sortedFolder']\n",
    "    shutil.move(old_file, new_folder)\n",
    "    print(f\"Finished moving {session}_combined.pkl\")\n",
    "    # move params\n",
    "    old_file = os.path.join(session_dir['photometryPath'], f'{session}_combined_params.pkl')\n",
    "    new_folder = session_dir['sortedFolder']\n",
    "    shutil.move(old_file, new_folder)\n",
    "    print(f\"Finished moving {session}_combined_params.pkl\")"
   ]
  },
  {
   "cell_type": "markdown",
   "metadata": {},
   "source": [
    "### Plot lick artifact"
   ]
  },
  {
   "cell_type": "code",
   "execution_count": null,
   "metadata": {},
   "outputs": [],
   "source": [
    "def process(session):\n",
    "    # write tmp_dict to json\n",
    "    signal_region_prep_updated, params = get_FP_data(session, label)\n",
    "    regions = list(signal_region_prep_updated['G'].keys())\n",
    "    for region in regions:\n",
    "        plot_FP_with_licks(session, label, region)\n",
    "    plt.close('all')\n",
    "Parallel(n_jobs=8)(delayed(process)(session) for session in session_list[1:])\n",
    "# process(session_list[0])"
   ]
  },
  {
   "cell_type": "code",
   "execution_count": 31,
   "metadata": {},
   "outputs": [],
   "source": [
    "# def plot_FP_with_licks_test(session, label, region):\n",
    "#     session_df, licks_L, licks_R = load_session_df(session)\n",
    "#     session_dir = parse_session_string(session)\n",
    "#     signal_region_prep, params = get_FP_data(session, label)\n",
    "#     licks_L, licks_R, fig = clean_up_licks(licks_L, licks_R, plot=False)\n",
    "#     parsed_licks_L, _ = parse_lick_trains(licks_L)\n",
    "#     parsed_licks_R, _ = parse_lick_trains(licks_R)\n",
    "#     trial_starts = session_df['CSon']\n",
    "#     licks_in_trial_L = [train_start for train_start in list(parsed_licks_L['train_starts']) if any([trial_start<train_start and trial_start>train_start-2000  for trial_start in trial_starts])]\n",
    "#     licks_in_trial_R = [train_start for train_start in list(parsed_licks_R['train_starts']) if any([trial_start<train_start and trial_start>train_start-2000  for trial_start in trial_starts])]\n",
    "#     licks_out_trial_L = [train_start for train_start in list(parsed_licks_L['train_starts']) if not any([trial_start<train_start and trial_start>train_start-2000  for trial_start in trial_starts])]\n",
    "#     licks_out_trial_R = [train_start for train_start in list(parsed_licks_R['train_starts']) if not any([trial_start<train_start and trial_start>train_start-2000  for trial_start in trial_starts])]\n",
    "#     fig = plt.figure(figsize=(15, 40))\n",
    "#     colorL = 'b'\n",
    "#     colorR = 'r'\n",
    "#     all_channels = [key for key, value in signal_region_prep.items() if 'time' not in key]\n",
    "#     gs = GridSpec(len(all_channels), 5, figure=fig)\n",
    "#     for channel_id, channel in enumerate(all_channels):\n",
    "#         signal = signal_region_prep[channel][region]\n",
    "#         ax = fig.add_subplot(gs[channel_id, 0])\n",
    "#         align_signal_to_events(signal, signal_region_prep['time_in_beh'], parsed_licks_L['train_starts'], ax = ax, legend = 'L', color = colorL)\n",
    "#         align_signal_to_events(signal, signal_region_prep['time_in_beh'], parsed_licks_R['train_starts'], ax = ax, legend = 'R', color = colorR)\n",
    "#         ax.legend()\n",
    "#         ax.set_title(f'All licks')\n",
    "#         ax.set_ylabel(channel)\n",
    "#         # in vs out trial L\n",
    "#         ax = fig.add_subplot(gs[channel_id, 1])\n",
    "#         align_signal_to_events(signal, signal_region_prep['time_in_beh'], licks_in_trial_L, ax = ax, color = colorL, legend = 'in')\n",
    "#         align_signal_to_events(signal, signal_region_prep['time_in_beh'], licks_out_trial_L, ax = ax, color = colorR, legend = 'out')\n",
    "#         ax.legend()\n",
    "#         ax.set_title(f'In vs out trial L')\n",
    "#         # in vs out trial R\n",
    "#         ax = fig.add_subplot(gs[channel_id, 2])\n",
    "#         align_signal_to_events(signal, signal_region_prep['time_in_beh'], licks_in_trial_R, ax = ax, color = colorL, legend = 'in')     \n",
    "#         align_signal_to_events(signal, signal_region_prep['time_in_beh'], licks_out_trial_R, ax = ax, color = colorR, legend = 'out')\n",
    "#         ax.legend()\n",
    "#         ax.set_title(f'In vs out trial R')\n",
    "#         # in left, in vs out trial with gradient of lick lick peak\n",
    "#         ax = fig.add_subplot(gs[channel_id, 3])\n",
    "#         num_bins = 3\n",
    "#         peaks = parsed_licks_L['train_amps']\n",
    "#         colors_in = color_gradient([1, 0, 0], num_bins+1)\n",
    "#         colors_out = color_gradient([0, 0, 1], num_bins+1)\n",
    "#         edges = np.quantile(peaks, np.linspace(0, 1, num_bins+1))\n",
    "#         for ind in range(num_bins):\n",
    "#             mask = (peaks>edges[ind]) & (peaks<=edges[ind+1])\n",
    "#             if np.sum(mask)>2:\n",
    "#                 align_signal_to_events(signal, signal_region_prep['time_in_beh'], np.array(parsed_licks_L['train_starts'])[mask], ax = ax, color = colors_in[ind+1], legend = f'In trial bin {ind}', plot_error=False)\n",
    "#         ax.set_title(f'Left licks by lick peak')\n",
    "#         # in right, in vs out trial with gradient of lick lick peak\\\n",
    "#         ax = fig.add_subplot(gs[channel_id, 4])\n",
    "#         peaks = parsed_licks_R['train_amps']\n",
    "#         colors_in = color_gradient([0, 0, 1], num_bins+1)\n",
    "#         colors_out = color_gradient([0, 0, 1], num_bins+1)\n",
    "#         edges = np.quantile(peaks, np.linspace(0, 1, num_bins+1))\n",
    "#         edges[0] = edges[0]-0.01\n",
    "#         for ind in range(num_bins):\n",
    "#             mask = (peaks>edges[ind]) & (peaks<=edges[ind+1])\n",
    "#             if np.sum(mask)>2:\n",
    "#                 align_signal_to_events(signal, signal_region_prep['time_in_beh'], np.array(parsed_licks_R['train_starts'])[mask], ax = ax, color = colors_in[ind+1], legend = f'In trial bin {ind}', plot_error=False)  \n",
    "#         ax.set_title(f'Right licks by lick peak')\n",
    "#     plt.suptitle(f'{session}_{region}')\n",
    "#     plt.tight_layout()\n",
    "\n",
    "#     fig.savefig(os.path.join(session_dir['saveFigFolder'], f'{session}_{region}_FP_licks.pdf'))"
   ]
  }
 ],
 "metadata": {
  "kernelspec": {
   "display_name": "playGround",
   "language": "python",
   "name": "python3"
  },
  "language_info": {
   "codemirror_mode": {
    "name": "ipython",
    "version": 3
   },
   "file_extension": ".py",
   "mimetype": "text/x-python",
   "name": "python",
   "nbconvert_exporter": "python",
   "pygments_lexer": "ipython3",
   "version": "3.10.0"
  }
 },
 "nbformat": 4,
 "nbformat_minor": 2
}
