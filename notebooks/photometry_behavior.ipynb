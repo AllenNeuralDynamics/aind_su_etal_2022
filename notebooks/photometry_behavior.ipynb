{
 "cells": [
  {
   "cell_type": "code",
   "execution_count": 1,
   "metadata": {},
   "outputs": [],
   "source": [
    "import numpy as np\n",
    "import pandas as pd\n",
    "import sys\n",
    "from pathlib import Path\n",
    "sys.path.append('..') \n",
    "import platform\n",
    "import os\n",
    "from pathlib import Path\n",
    "import shutil\n",
    "from pathlib import Path\n",
    "import shutil\n",
    "from utils.behavior.session_utils import load_session_df, parse_session_string\n",
    "from utils.behavior.lick_analysis import clean_up_licks, parse_lick_trains\n",
    "from scipy.io import loadmat\n",
    "from itertools import chain\n",
    "from matplotlib import pyplot as plt\n",
    "from IPython.display import display\n",
    "from scipy.signal import find_peaks\n",
    "from harp.clock import align_timestamps_to_anchor_points\n",
    "from utils.basics.data_org import *\n",
    "from utils.photometry.preprocessing import * \n",
    "from utils.photometry.plot_utils import align_signal_to_events, color_gradient, plot_FP_with_licks, plot_G_vs_Iso, plot_FP_beh_analysis\n",
    "import numpy as np\n",
    "from scipy.signal import butter, filtfilt, medfilt, sosfiltfilt\n",
    "from scipy.optimize import curve_fit\n",
    "import json\n",
    "from sklearn.linear_model import LinearRegression\n",
    "from matplotlib.gridspec import GridSpec\n",
    "import pickle\n",
    "from aind_fip_dff.utils.preprocess import batch_processing, tc_triexpfit\n",
    "from joblib import Parallel, delayed\n",
    "import matplotlib.pyplot as plt\n",
    "import time\n",
    "from contextlib import redirect_stdout\n",
    "# %matplotlib inline\n",
    "# %matplotlib widget"
   ]
  },
  {
   "cell_type": "code",
   "execution_count": 3,
   "metadata": {},
   "outputs": [
    {
     "name": "stdout",
     "output_type": "stream",
     "text": [
      "Loaded m754896d20250109_combined.pkl and m754896d20250109_combined_params.pkl\n"
     ]
    }
   ],
   "source": [
    "session = 'm754896d20250109'\n",
    "label = 'Gi'\n",
    "session_dir = parse_session_string(session)\n",
    "session_df, licks_L, licks_R = load_session_df(session)\n",
    "licks_L, licks_R, fig = clean_up_licks(licks_L, licks_R, plot=False)\n",
    "parsed_licks_L, _ = parse_lick_trains(licks_L)\n",
    "parsed_licks_R, _ = parse_lick_trains(licks_R)\n",
    "# signal_region = load_session_FP(session, label, plot=False);\n",
    "# signal_region_raw = load_session_FP_raw(session, label, plot=False);\n",
    "# signal_pre = preprocess_signal(session, label, fs = 20, lowcut = 0.1, fc = 9, xtol=1e-6, plot=True)\n",
    "\n",
    "signal, params = get_FP_data(session)"
   ]
  },
  {
   "cell_type": "code",
   "execution_count": null,
   "metadata": {},
   "outputs": [
    {
     "name": "stdout",
     "output_type": "stream",
     "text": [
      "Loaded m699461d20240105_combined.pkl and m699461d20240105_combined_params.pkl\n",
      "Loaded m699461d20240105_combined.pkl and m699461d20240105_combined_params.pkl\n"
     ]
    }
   ],
   "source": [
    "session = 'm699461d20240105'\n",
    "fig = plot_G_vs_Iso(session)\n",
    "plot_FP_beh_analysis(session, channel='Iso_tri-exp_mc')"
   ]
  },
  {
   "cell_type": "code",
   "execution_count": 2,
   "metadata": {},
   "outputs": [],
   "source": [
    "session_list = get_session_list('photometry', 'all', 'crusIgood') + get_session_list('photometry_Gi', 'all', 'Gi_G8')"
   ]
  },
  {
   "cell_type": "code",
   "execution_count": 3,
   "metadata": {},
   "outputs": [],
   "source": [
    "def process(session):\n",
    "    print(session)\n",
    "    # plot_G_vs_Iso(session)\n",
    "    plot_FP_beh_analysis(session, channel='G_tri-exp_mc')\n",
    "    plot_FP_beh_analysis(session, channel='Iso_tri-exp_mc')\n",
    "    plt.close('all')\n",
    "    return\n",
    "\n",
    "Parallel(n_jobs=8)(delayed(process)(session) for session in session_list)\n",
    "plt.close('all')"
   ]
  },
  {
   "cell_type": "code",
   "execution_count": 10,
   "metadata": {},
   "outputs": [
    {
     "data": {
      "text/plain": [
       "0      0.0\n",
       "1      NaN\n",
       "2      NaN\n",
       "3      NaN\n",
       "4      NaN\n",
       "      ... \n",
       "621    NaN\n",
       "622    NaN\n",
       "623    NaN\n",
       "624    NaN\n",
       "625    NaN\n",
       "Name: rewardL, Length: 626, dtype: float64"
      ]
     },
     "execution_count": 10,
     "metadata": {},
     "output_type": "execute_result"
    }
   ],
   "source": [
    "def process(session):\n",
    "    print(session)\n",
    "    plot_G_vs_Iso(session)\n",
    "    plot_FP_beh_analysis(session)\n",
    "    plt.close('all')\n",
    "    return\n",
    "\n",
    "Parallel(n_jobs=8)(delayed(process)(session) for session in session_list)\n",
    "plt.close('all')"
   ]
  }
 ],
 "metadata": {
  "kernelspec": {
   "display_name": "playGround",
   "language": "python",
   "name": "python3"
  },
  "language_info": {
   "codemirror_mode": {
    "name": "ipython",
    "version": 3
   },
   "file_extension": ".py",
   "mimetype": "text/x-python",
   "name": "python",
   "nbconvert_exporter": "python",
   "pygments_lexer": "ipython3",
   "version": "3.10.0"
  }
 },
 "nbformat": 4,
 "nbformat_minor": 2
}
