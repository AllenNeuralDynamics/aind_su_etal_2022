{
 "cells": [
  {
   "cell_type": "code",
   "execution_count": 14,
   "metadata": {},
   "outputs": [],
   "source": [
    "import os\n",
    "import sys\n",
    "from pathlib import Path\n",
    "sys.path.append('..') \n",
    "from PyPDF2 import PdfMerger\n",
    "from utils.behavior.session_utils import load_session_df, parse_session_string\n",
    "from utils.basics.data_org import *\n",
    "import fitz"
   ]
  },
  {
   "cell_type": "code",
   "execution_count": null,
   "metadata": {},
   "outputs": [],
   "source": [
    "from PyPDF2 import PdfMerger, PdfReader\n",
    "from PyPDF2.pdf import PageObject\n",
    "from reportlab.pdfgen import canvas\n",
    "from reportlab.lib.pagesizes import letter\n",
    "import io\n",
    "\n",
    "def add_title_to_page(page, title):\n",
    "    packet = io.BytesIO()\n",
    "    can = canvas.Canvas(packet, pagesize=letter)\n",
    "    can.drawString(30, 750, title)  # Adjust coordinates as needed\n",
    "    can.save()\n",
    "    packet.seek(0)\n",
    "    title_page = PdfReader(packet).pages[0]\n",
    "    page.merge_page(title_page)\n",
    "    return page"
   ]
  },
  {
   "cell_type": "code",
   "execution_count": 25,
   "metadata": {},
   "outputs": [],
   "source": [
    "def merge_sesssion_pdf(session_list, output, prefix = '', postfix = '', strings = [''], add_title = False):\n",
    "    merger = PdfMerger()\n",
    "    modified_pdfs = []\n",
    "    temp_folder = os.path.join(os.path.dirname(output), 'pdf_tmp')\n",
    "    if not os.path.exists(temp_folder):\n",
    "        os.makedirs(temp_folder, exist_ok=True)\n",
    "    for session in session_list:\n",
    "        session_dir = parse_session_string(session)\n",
    "        curr_files = [os.path.join(session_dir['saveFigFolder'], file) for file in os.listdir(session_dir['saveFigFolder']) if file.endswith(postfix) and file.startswith(prefix) and all(s in file for s in strings)]\n",
    "        if len(curr_files)>1:\n",
    "            strings.append(session)\n",
    "            curr_files = [os.path.join(session_dir['saveFigFolder'], file) for file in os.listdir(session_dir['saveFigFolder']) if file.endswith(postfix) and file.startswith(prefix) and all(s in file for s in strings)]\n",
    "        \n",
    "        if len(curr_files)!=1:\n",
    "            print(f'{session} {len(curr_files)}')\n",
    "\n",
    "        for file_ind, curr_file in enumerate(curr_files):\n",
    "            if add_title:\n",
    "                doc = fitz.open(curr_file)\n",
    "                first_page = doc[0]\n",
    "                first_page.insert_text((50, 50), session, fontsize=16, color=(0, 0, 0), fontname=\"helv\")\n",
    "                modified_pdf = os.path.join(os.path.dirname(curr_file), 'pdf_tmp', f'{session}_modified_{file_ind}.pdf')\n",
    "                doc.save(modified_pdf) \n",
    "                modified_pdfs.append(modified_pdf) \n",
    "                merger.append(modified_pdf)        \n",
    "            else:\n",
    "                merger.append(curr_file)\n",
    "    shutil.rmtree(temp_folder)\n",
    "    merger.write(output)\n",
    "    \n"
   ]
  },
  {
   "cell_type": "code",
   "execution_count": 10,
   "metadata": {},
   "outputs": [],
   "source": [
    "session_list = get_session_list('photometry', 'all', 'crusIgood') + get_session_list('photometry_Gi', 'all', 'Gi_G8')"
   ]
  },
  {
   "cell_type": "code",
   "execution_count": 11,
   "metadata": {},
   "outputs": [],
   "source": [
    "# preprocessing\n",
    "merge_sesssion_pdf(session_list, r'F:\\FP_tri-exp_prep.pdf', postfix = '_tri-exp_FP.pdf')"
   ]
  },
  {
   "cell_type": "code",
   "execution_count": 12,
   "metadata": {},
   "outputs": [],
   "source": [
    "merge_sesssion_pdf(session_list, r'F:\\FP_exp_prep.pdf', postfix = '_exp_FP.pdf')"
   ]
  },
  {
   "cell_type": "code",
   "execution_count": 13,
   "metadata": {},
   "outputs": [],
   "source": [
    "merge_sesssion_pdf(session_list, r'F:\\FP_bright_prep.pdf', postfix = '_bright_FP.pdf')"
   ]
  },
  {
   "cell_type": "code",
   "execution_count": 24,
   "metadata": {},
   "outputs": [
    {
     "ename": "Exception",
     "evalue": "need font file or buffer",
     "output_type": "error",
     "traceback": [
      "\u001b[1;31m---------------------------------------------------------------------------\u001b[0m",
      "\u001b[1;31mException\u001b[0m                                 Traceback (most recent call last)",
      "\u001b[1;32m~\\AppData\\Local\\Temp\\ipykernel_24200\\2826657934.py\u001b[0m in \u001b[0;36m?\u001b[1;34m()\u001b[0m\n\u001b[0;32m      1\u001b[0m \u001b[1;31m# compare G and Iso raw trace\u001b[0m\u001b[1;33m\u001b[0m\u001b[1;33m\u001b[0m\u001b[0m\n\u001b[1;32m----> 2\u001b[1;33m \u001b[0mmerge_sesssion_pdf\u001b[0m\u001b[1;33m(\u001b[0m\u001b[0msession_list\u001b[0m\u001b[1;33m,\u001b[0m \u001b[1;34mr'F:\\G_vs_Iso_raw_trace.pdf'\u001b[0m\u001b[1;33m,\u001b[0m \u001b[0mpostfix\u001b[0m \u001b[1;33m=\u001b[0m \u001b[1;34m'_G_vs_Iso.pdf'\u001b[0m\u001b[1;33m,\u001b[0m \u001b[0madd_title\u001b[0m\u001b[1;33m=\u001b[0m\u001b[1;32mTrue\u001b[0m\u001b[1;33m)\u001b[0m\u001b[1;33m\u001b[0m\u001b[1;33m\u001b[0m\u001b[0m\n\u001b[0m",
      "\u001b[1;32m~\\AppData\\Local\\Temp\\ipykernel_24200\\2730311226.py\u001b[0m in \u001b[0;36m?\u001b[1;34m(session_list, output, prefix, postfix, strings, add_title)\u001b[0m\n\u001b[0;32m     17\u001b[0m         \u001b[1;32mfor\u001b[0m \u001b[0mfile_ind\u001b[0m\u001b[1;33m,\u001b[0m \u001b[0mcurr_file\u001b[0m \u001b[1;32min\u001b[0m \u001b[0menumerate\u001b[0m\u001b[1;33m(\u001b[0m\u001b[0mcurr_files\u001b[0m\u001b[1;33m)\u001b[0m\u001b[1;33m:\u001b[0m\u001b[1;33m\u001b[0m\u001b[1;33m\u001b[0m\u001b[0m\n\u001b[0;32m     18\u001b[0m             \u001b[1;32mif\u001b[0m \u001b[0madd_title\u001b[0m\u001b[1;33m:\u001b[0m\u001b[1;33m\u001b[0m\u001b[1;33m\u001b[0m\u001b[0m\n\u001b[0;32m     19\u001b[0m                 \u001b[0mdoc\u001b[0m \u001b[1;33m=\u001b[0m \u001b[0mfitz\u001b[0m\u001b[1;33m.\u001b[0m\u001b[0mopen\u001b[0m\u001b[1;33m(\u001b[0m\u001b[0mcurr_file\u001b[0m\u001b[1;33m)\u001b[0m\u001b[1;33m\u001b[0m\u001b[1;33m\u001b[0m\u001b[0m\n\u001b[0;32m     20\u001b[0m                 \u001b[0mfirst_page\u001b[0m \u001b[1;33m=\u001b[0m \u001b[0mdoc\u001b[0m\u001b[1;33m[\u001b[0m\u001b[1;36m0\u001b[0m\u001b[1;33m]\u001b[0m\u001b[1;33m\u001b[0m\u001b[1;33m\u001b[0m\u001b[0m\n\u001b[1;32m---> 21\u001b[1;33m                 \u001b[0mfirst_page\u001b[0m\u001b[1;33m.\u001b[0m\u001b[0minsert_text\u001b[0m\u001b[1;33m(\u001b[0m\u001b[1;33m(\u001b[0m\u001b[1;36m50\u001b[0m\u001b[1;33m,\u001b[0m \u001b[1;36m50\u001b[0m\u001b[1;33m)\u001b[0m\u001b[1;33m,\u001b[0m \u001b[0msession\u001b[0m\u001b[1;33m,\u001b[0m \u001b[0mfontsize\u001b[0m\u001b[1;33m=\u001b[0m\u001b[1;36m16\u001b[0m\u001b[1;33m,\u001b[0m \u001b[0mcolor\u001b[0m\u001b[1;33m=\u001b[0m\u001b[1;33m(\u001b[0m\u001b[1;36m0\u001b[0m\u001b[1;33m,\u001b[0m \u001b[1;36m0\u001b[0m\u001b[1;33m,\u001b[0m \u001b[1;36m0\u001b[0m\u001b[1;33m)\u001b[0m\u001b[1;33m,\u001b[0m \u001b[0mfontname\u001b[0m\u001b[1;33m=\u001b[0m\u001b[1;34m\"helv-bold\"\u001b[0m\u001b[1;33m)\u001b[0m\u001b[1;33m\u001b[0m\u001b[1;33m\u001b[0m\u001b[0m\n\u001b[0m\u001b[0;32m     22\u001b[0m                 \u001b[0mmodified_pdf\u001b[0m \u001b[1;33m=\u001b[0m \u001b[0mos\u001b[0m\u001b[1;33m.\u001b[0m\u001b[0mpath\u001b[0m\u001b[1;33m.\u001b[0m\u001b[0mjoin\u001b[0m\u001b[1;33m(\u001b[0m\u001b[0mos\u001b[0m\u001b[1;33m.\u001b[0m\u001b[0mpath\u001b[0m\u001b[1;33m.\u001b[0m\u001b[0mdirname\u001b[0m\u001b[1;33m(\u001b[0m\u001b[0mcurr_file\u001b[0m\u001b[1;33m)\u001b[0m\u001b[1;33m,\u001b[0m \u001b[1;34m'pdf_tmp'\u001b[0m\u001b[1;33m,\u001b[0m \u001b[1;34mf'{session}_modified_{file_ind}.pdf'\u001b[0m\u001b[1;33m)\u001b[0m\u001b[1;33m\u001b[0m\u001b[1;33m\u001b[0m\u001b[0m\n\u001b[0;32m     23\u001b[0m                 \u001b[0mdoc\u001b[0m\u001b[1;33m.\u001b[0m\u001b[0msave\u001b[0m\u001b[1;33m(\u001b[0m\u001b[0mmodified_pdf\u001b[0m\u001b[1;33m)\u001b[0m\u001b[1;33m\u001b[0m\u001b[1;33m\u001b[0m\u001b[0m\n\u001b[0;32m     24\u001b[0m                 \u001b[0mmodified_pdfs\u001b[0m\u001b[1;33m.\u001b[0m\u001b[0mappend\u001b[0m\u001b[1;33m(\u001b[0m\u001b[0mmodified_pdf\u001b[0m\u001b[1;33m)\u001b[0m\u001b[1;33m\u001b[0m\u001b[1;33m\u001b[0m\u001b[0m\n",
      "\u001b[1;32mc:\\Users\\zhixi\\Anaconda3\\envs\\playGround\\lib\\site-packages\\pymupdf\\utils.py\u001b[0m in \u001b[0;36m?\u001b[1;34m(page, point, text, fontsize, lineheight, fontname, fontfile, set_simple, encoding, color, fill, border_width, miter_limit, render_mode, rotate, morph, overlay, stroke_opacity, fill_opacity, oc)\u001b[0m\n\u001b[0;32m   2137\u001b[0m     \u001b[0moc\u001b[0m\u001b[1;33m:\u001b[0m \u001b[0mint\u001b[0m \u001b[1;33m=\u001b[0m \u001b[1;36m0\u001b[0m\u001b[1;33m,\u001b[0m\u001b[1;33m\u001b[0m\u001b[1;33m\u001b[0m\u001b[0m\n\u001b[0;32m   2138\u001b[0m ):\n\u001b[0;32m   2139\u001b[0m \u001b[1;33m\u001b[0m\u001b[0m\n\u001b[0;32m   2140\u001b[0m     \u001b[0mimg\u001b[0m \u001b[1;33m=\u001b[0m \u001b[0mpage\u001b[0m\u001b[1;33m.\u001b[0m\u001b[0mnew_shape\u001b[0m\u001b[1;33m(\u001b[0m\u001b[1;33m)\u001b[0m\u001b[1;33m\u001b[0m\u001b[1;33m\u001b[0m\u001b[0m\n\u001b[1;32m-> 2141\u001b[1;33m     rc = img.insert_text(\n\u001b[0m\u001b[0;32m   2142\u001b[0m         \u001b[0mpoint\u001b[0m\u001b[1;33m,\u001b[0m\u001b[1;33m\u001b[0m\u001b[1;33m\u001b[0m\u001b[0m\n\u001b[0;32m   2143\u001b[0m         \u001b[0mtext\u001b[0m\u001b[1;33m,\u001b[0m\u001b[1;33m\u001b[0m\u001b[1;33m\u001b[0m\u001b[0m\n\u001b[0;32m   2144\u001b[0m         \u001b[0mfontsize\u001b[0m\u001b[1;33m=\u001b[0m\u001b[0mfontsize\u001b[0m\u001b[1;33m,\u001b[0m\u001b[1;33m\u001b[0m\u001b[1;33m\u001b[0m\u001b[0m\n",
      "\u001b[1;32mc:\\Users\\zhixi\\Anaconda3\\envs\\playGround\\lib\\site-packages\\pymupdf\\utils.py\u001b[0m in \u001b[0;36m?\u001b[1;34m(self, point, buffer, fontsize, lineheight, fontname, fontfile, set_simple, encoding, color, fill, render_mode, border_width, miter_limit, rotate, morph, stroke_opacity, fill_opacity, oc)\u001b[0m\n\u001b[0;32m   3934\u001b[0m         \u001b[0mfname\u001b[0m \u001b[1;33m=\u001b[0m \u001b[0mfontname\u001b[0m\u001b[1;33m\u001b[0m\u001b[1;33m\u001b[0m\u001b[0m\n\u001b[0;32m   3935\u001b[0m         \u001b[1;32mif\u001b[0m \u001b[0mfname\u001b[0m\u001b[1;33m.\u001b[0m\u001b[0mstartswith\u001b[0m\u001b[1;33m(\u001b[0m\u001b[1;34m\"/\"\u001b[0m\u001b[1;33m)\u001b[0m\u001b[1;33m:\u001b[0m\u001b[1;33m\u001b[0m\u001b[1;33m\u001b[0m\u001b[0m\n\u001b[0;32m   3936\u001b[0m             \u001b[0mfname\u001b[0m \u001b[1;33m=\u001b[0m \u001b[0mfname\u001b[0m\u001b[1;33m[\u001b[0m\u001b[1;36m1\u001b[0m\u001b[1;33m:\u001b[0m\u001b[1;33m]\u001b[0m\u001b[1;33m\u001b[0m\u001b[1;33m\u001b[0m\u001b[0m\n\u001b[0;32m   3937\u001b[0m \u001b[1;33m\u001b[0m\u001b[0m\n\u001b[1;32m-> 3938\u001b[1;33m         xref = self.page.insert_font(\n\u001b[0m\u001b[0;32m   3939\u001b[0m             \u001b[0mfontname\u001b[0m\u001b[1;33m=\u001b[0m\u001b[0mfname\u001b[0m\u001b[1;33m,\u001b[0m \u001b[0mfontfile\u001b[0m\u001b[1;33m=\u001b[0m\u001b[0mfontfile\u001b[0m\u001b[1;33m,\u001b[0m \u001b[0mencoding\u001b[0m\u001b[1;33m=\u001b[0m\u001b[0mencoding\u001b[0m\u001b[1;33m,\u001b[0m \u001b[0mset_simple\u001b[0m\u001b[1;33m=\u001b[0m\u001b[0mset_simple\u001b[0m\u001b[1;33m\u001b[0m\u001b[1;33m\u001b[0m\u001b[0m\n\u001b[0;32m   3940\u001b[0m         )\n\u001b[0;32m   3941\u001b[0m         \u001b[0mfontinfo\u001b[0m \u001b[1;33m=\u001b[0m \u001b[0mpymupdf\u001b[0m\u001b[1;33m.\u001b[0m\u001b[0mCheckFontInfo\u001b[0m\u001b[1;33m(\u001b[0m\u001b[0mself\u001b[0m\u001b[1;33m.\u001b[0m\u001b[0mdoc\u001b[0m\u001b[1;33m,\u001b[0m \u001b[0mxref\u001b[0m\u001b[1;33m)\u001b[0m\u001b[1;33m\u001b[0m\u001b[1;33m\u001b[0m\u001b[0m\n",
      "\u001b[1;32mc:\\Users\\zhixi\\Anaconda3\\envs\\playGround\\lib\\site-packages\\pymupdf\\__init__.py\u001b[0m in \u001b[0;36m?\u001b[1;34m(self, fontname, fontfile, fontbuffer, set_simple, wmode, encoding)\u001b[0m\n\u001b[0;32m   9434\u001b[0m             \u001b[1;32melse\u001b[0m\u001b[1;33m:\u001b[0m\u001b[1;33m\u001b[0m\u001b[1;33m\u001b[0m\u001b[0m\n\u001b[0;32m   9435\u001b[0m                 \u001b[1;32mraise\u001b[0m \u001b[0mValueError\u001b[0m\u001b[1;33m(\u001b[0m\u001b[1;34m\"bad fontfile\"\u001b[0m\u001b[1;33m)\u001b[0m\u001b[1;33m\u001b[0m\u001b[1;33m\u001b[0m\u001b[0m\n\u001b[0;32m   9436\u001b[0m         \u001b[1;32melse\u001b[0m\u001b[1;33m:\u001b[0m\u001b[1;33m\u001b[0m\u001b[1;33m\u001b[0m\u001b[0m\n\u001b[0;32m   9437\u001b[0m             \u001b[0mfontfile_str\u001b[0m \u001b[1;33m=\u001b[0m \u001b[1;32mNone\u001b[0m\u001b[1;33m\u001b[0m\u001b[1;33m\u001b[0m\u001b[0m\n\u001b[1;32m-> 9438\u001b[1;33m         val = self._insertFont(fontname, bfname, fontfile_str, fontbuffer, set_simple, idx,\n\u001b[0m\u001b[0;32m   9439\u001b[0m                                wmode, serif, encoding, CJK_number)\n\u001b[0;32m   9440\u001b[0m \u001b[1;33m\u001b[0m\u001b[0m\n\u001b[0;32m   9441\u001b[0m         \u001b[1;32mif\u001b[0m \u001b[1;32mnot\u001b[0m \u001b[0mval\u001b[0m\u001b[1;33m:\u001b[0m                   \u001b[1;31m# did not work, error return\u001b[0m\u001b[1;33m\u001b[0m\u001b[1;33m\u001b[0m\u001b[0m\n",
      "\u001b[1;32mc:\\Users\\zhixi\\Anaconda3\\envs\\playGround\\lib\\site-packages\\pymupdf\\__init__.py\u001b[0m in \u001b[0;36m?\u001b[1;34m(self, fontname, bfname, fontfile, fontbuffer, set_simple, idx, wmode, serif, encoding, ordering)\u001b[0m\n\u001b[0;32m   8089\u001b[0m     \u001b[1;32mdef\u001b[0m \u001b[0m_insertFont\u001b[0m\u001b[1;33m(\u001b[0m\u001b[0mself\u001b[0m\u001b[1;33m,\u001b[0m \u001b[0mfontname\u001b[0m\u001b[1;33m,\u001b[0m \u001b[0mbfname\u001b[0m\u001b[1;33m,\u001b[0m \u001b[0mfontfile\u001b[0m\u001b[1;33m,\u001b[0m \u001b[0mfontbuffer\u001b[0m\u001b[1;33m,\u001b[0m \u001b[0mset_simple\u001b[0m\u001b[1;33m,\u001b[0m \u001b[0midx\u001b[0m\u001b[1;33m,\u001b[0m \u001b[0mwmode\u001b[0m\u001b[1;33m,\u001b[0m \u001b[0mserif\u001b[0m\u001b[1;33m,\u001b[0m \u001b[0mencoding\u001b[0m\u001b[1;33m,\u001b[0m \u001b[0mordering\u001b[0m\u001b[1;33m)\u001b[0m\u001b[1;33m:\u001b[0m\u001b[1;33m\u001b[0m\u001b[1;33m\u001b[0m\u001b[0m\n\u001b[0;32m   8090\u001b[0m         \u001b[0mpage\u001b[0m \u001b[1;33m=\u001b[0m \u001b[0mself\u001b[0m\u001b[1;33m.\u001b[0m\u001b[0m_pdf_page\u001b[0m\u001b[1;33m(\u001b[0m\u001b[1;33m)\u001b[0m\u001b[1;33m\u001b[0m\u001b[1;33m\u001b[0m\u001b[0m\n\u001b[0;32m   8091\u001b[0m         \u001b[0mpdf\u001b[0m \u001b[1;33m=\u001b[0m \u001b[0mpage\u001b[0m\u001b[1;33m.\u001b[0m\u001b[0mdoc\u001b[0m\u001b[1;33m(\u001b[0m\u001b[1;33m)\u001b[0m\u001b[1;33m\u001b[0m\u001b[1;33m\u001b[0m\u001b[0m\n\u001b[0;32m   8092\u001b[0m \u001b[1;33m\u001b[0m\u001b[0m\n\u001b[1;32m-> 8093\u001b[1;33m         \u001b[0mvalue\u001b[0m \u001b[1;33m=\u001b[0m \u001b[0mJM_insert_font\u001b[0m\u001b[1;33m(\u001b[0m\u001b[0mpdf\u001b[0m\u001b[1;33m,\u001b[0m \u001b[0mbfname\u001b[0m\u001b[1;33m,\u001b[0m \u001b[0mfontfile\u001b[0m\u001b[1;33m,\u001b[0m\u001b[0mfontbuffer\u001b[0m\u001b[1;33m,\u001b[0m \u001b[0mset_simple\u001b[0m\u001b[1;33m,\u001b[0m \u001b[0midx\u001b[0m\u001b[1;33m,\u001b[0m \u001b[0mwmode\u001b[0m\u001b[1;33m,\u001b[0m \u001b[0mserif\u001b[0m\u001b[1;33m,\u001b[0m \u001b[0mencoding\u001b[0m\u001b[1;33m,\u001b[0m \u001b[0mordering\u001b[0m\u001b[1;33m)\u001b[0m\u001b[1;33m\u001b[0m\u001b[1;33m\u001b[0m\u001b[0m\n\u001b[0m\u001b[0;32m   8094\u001b[0m         \u001b[1;31m# get the objects /Resources, /Resources/Font\u001b[0m\u001b[1;33m\u001b[0m\u001b[1;33m\u001b[0m\u001b[0m\n\u001b[0;32m   8095\u001b[0m         \u001b[0mresources\u001b[0m \u001b[1;33m=\u001b[0m \u001b[0mmupdf\u001b[0m\u001b[1;33m.\u001b[0m\u001b[0mpdf_dict_get_inheritable\u001b[0m\u001b[1;33m(\u001b[0m \u001b[0mpage\u001b[0m\u001b[1;33m.\u001b[0m\u001b[0mobj\u001b[0m\u001b[1;33m(\u001b[0m\u001b[1;33m)\u001b[0m\u001b[1;33m,\u001b[0m \u001b[0mPDF_NAME\u001b[0m\u001b[1;33m(\u001b[0m\u001b[1;34m'Resources'\u001b[0m\u001b[1;33m)\u001b[0m\u001b[1;33m)\u001b[0m\u001b[1;33m\u001b[0m\u001b[1;33m\u001b[0m\u001b[0m\n\u001b[0;32m   8096\u001b[0m         \u001b[0mfonts\u001b[0m \u001b[1;33m=\u001b[0m \u001b[0mmupdf\u001b[0m\u001b[1;33m.\u001b[0m\u001b[0mpdf_dict_get\u001b[0m\u001b[1;33m(\u001b[0m\u001b[0mresources\u001b[0m\u001b[1;33m,\u001b[0m \u001b[0mPDF_NAME\u001b[0m\u001b[1;33m(\u001b[0m\u001b[1;34m'Font'\u001b[0m\u001b[1;33m)\u001b[0m\u001b[1;33m)\u001b[0m\u001b[1;33m\u001b[0m\u001b[1;33m\u001b[0m\u001b[0m\n",
      "\u001b[1;32mc:\\Users\\zhixi\\Anaconda3\\envs\\playGround\\lib\\site-packages\\pymupdf\\__init__.py\u001b[0m in \u001b[0;36m?\u001b[1;34m(pdf, bfname, fontfile, fontbuffer, set_simple, idx, wmode, serif, encoding, ordering)\u001b[0m\n\u001b[0;32m  16234\u001b[0m                 \u001b[0mfont\u001b[0m \u001b[1;33m=\u001b[0m \u001b[0mmupdf\u001b[0m\u001b[1;33m.\u001b[0m\u001b[0mfz_new_font_from_file\u001b[0m\u001b[1;33m(\u001b[0m\u001b[1;32mNone\u001b[0m\u001b[1;33m,\u001b[0m \u001b[0mfontfile\u001b[0m\u001b[1;33m,\u001b[0m \u001b[0midx\u001b[0m\u001b[1;33m,\u001b[0m \u001b[1;36m0\u001b[0m\u001b[1;33m)\u001b[0m\u001b[1;33m\u001b[0m\u001b[1;33m\u001b[0m\u001b[0m\n\u001b[0;32m  16235\u001b[0m             \u001b[1;32melse\u001b[0m\u001b[1;33m:\u001b[0m\u001b[1;33m\u001b[0m\u001b[1;33m\u001b[0m\u001b[0m\n\u001b[0;32m  16236\u001b[0m                 \u001b[0mres\u001b[0m \u001b[1;33m=\u001b[0m \u001b[0mJM_BufferFromBytes\u001b[0m\u001b[1;33m(\u001b[0m\u001b[0mfontbuffer\u001b[0m\u001b[1;33m)\u001b[0m\u001b[1;33m\u001b[0m\u001b[1;33m\u001b[0m\u001b[0m\n\u001b[0;32m  16237\u001b[0m                 \u001b[1;32mif\u001b[0m \u001b[1;32mnot\u001b[0m \u001b[0mres\u001b[0m\u001b[1;33m.\u001b[0m\u001b[0mm_internal\u001b[0m\u001b[1;33m:\u001b[0m\u001b[1;33m\u001b[0m\u001b[1;33m\u001b[0m\u001b[0m\n\u001b[1;32m> 16238\u001b[1;33m                     \u001b[0mRAISEPY\u001b[0m\u001b[1;33m(\u001b[0m\u001b[0mMSG_FILE_OR_BUFFER\u001b[0m\u001b[1;33m,\u001b[0m \u001b[0mPyExc_ValueError\u001b[0m\u001b[1;33m)\u001b[0m\u001b[1;33m\u001b[0m\u001b[1;33m\u001b[0m\u001b[0m\n\u001b[0m\u001b[0;32m  16239\u001b[0m                 \u001b[0mfont\u001b[0m \u001b[1;33m=\u001b[0m \u001b[0mmupdf\u001b[0m\u001b[1;33m.\u001b[0m\u001b[0mfz_new_font_from_buffer\u001b[0m\u001b[1;33m(\u001b[0m\u001b[1;32mNone\u001b[0m\u001b[1;33m,\u001b[0m \u001b[0mres\u001b[0m\u001b[1;33m,\u001b[0m \u001b[0midx\u001b[0m\u001b[1;33m,\u001b[0m \u001b[1;36m0\u001b[0m\u001b[1;33m)\u001b[0m\u001b[1;33m\u001b[0m\u001b[1;33m\u001b[0m\u001b[0m\n\u001b[0;32m  16240\u001b[0m \u001b[1;33m\u001b[0m\u001b[0m\n\u001b[0;32m  16241\u001b[0m             \u001b[1;32mif\u001b[0m \u001b[1;32mnot\u001b[0m \u001b[0mset_simple\u001b[0m\u001b[1;33m:\u001b[0m\u001b[1;33m\u001b[0m\u001b[1;33m\u001b[0m\u001b[0m\n",
      "\u001b[1;32mc:\\Users\\zhixi\\Anaconda3\\envs\\playGround\\lib\\site-packages\\pymupdf\\__init__.py\u001b[0m in \u001b[0;36m?\u001b[1;34m(msg, exc)\u001b[0m\n\u001b[0;32m  17864\u001b[0m \u001b[1;32mdef\u001b[0m \u001b[0mRAISEPY\u001b[0m\u001b[1;33m(\u001b[0m \u001b[0mmsg\u001b[0m\u001b[1;33m,\u001b[0m \u001b[0mexc\u001b[0m\u001b[1;33m)\u001b[0m\u001b[1;33m:\u001b[0m\u001b[1;33m\u001b[0m\u001b[1;33m\u001b[0m\u001b[0m\n\u001b[0;32m  17865\u001b[0m     \u001b[1;31m#JM_Exc_CurrentException=exc\u001b[0m\u001b[1;33m\u001b[0m\u001b[1;33m\u001b[0m\u001b[0m\n\u001b[0;32m  17866\u001b[0m     \u001b[1;31m#fz_throw(context, FZ_ERROR_GENERIC, msg)\u001b[0m\u001b[1;33m\u001b[0m\u001b[1;33m\u001b[0m\u001b[0m\n\u001b[1;32m> 17867\u001b[1;33m     \u001b[1;32mraise\u001b[0m \u001b[0mException\u001b[0m\u001b[1;33m(\u001b[0m \u001b[0mmsg\u001b[0m\u001b[1;33m)\u001b[0m\u001b[1;33m\u001b[0m\u001b[1;33m\u001b[0m\u001b[0m\n\u001b[0m",
      "\u001b[1;31mException\u001b[0m: need font file or buffer"
     ]
    }
   ],
   "source": [
    "# compare G and Iso raw trace\n",
    "merge_sesssion_pdf(session_list, r'F:\\G_vs_Iso_raw_trace.pdf', postfix = '_G_vs_Iso.pdf', add_title=True)"
   ]
  }
 ],
 "metadata": {
  "kernelspec": {
   "display_name": "playGround",
   "language": "python",
   "name": "python3"
  },
  "language_info": {
   "codemirror_mode": {
    "name": "ipython",
    "version": 3
   },
   "file_extension": ".py",
   "mimetype": "text/x-python",
   "name": "python",
   "nbconvert_exporter": "python",
   "pygments_lexer": "ipython3",
   "version": "3.10.0"
  }
 },
 "nbformat": 4,
 "nbformat_minor": 2
}
