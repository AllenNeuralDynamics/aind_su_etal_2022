{
 "cells": [
  {
   "cell_type": "code",
   "execution_count": 1,
   "metadata": {},
   "outputs": [],
   "source": [
    "import numpy as np\n",
    "import pandas as pd\n",
    "from scipy.io import loadmat\n",
    "import sys\n",
    "from pathlib import Path\n",
    "sys.path.append(\"..\") \n",
    "import platform\n",
    "import os\n",
    "from pathlib import Path"
   ]
  },
  {
   "cell_type": "code",
   "execution_count": 2,
   "metadata": {},
   "outputs": [],
   "source": [
    "from utils.basics.data_org import curr_computer\n",
    "from utils.behavior.session_utils import *\n",
    "from utils.ephys.neuron_utils import *"
   ]
  },
  {
   "cell_type": "code",
   "execution_count": 4,
   "metadata": {},
   "outputs": [],
   "source": [
    "def parse_session_string(file_or_folder, root):\n",
    "    \"\"\"\n",
    "    Parses input string to generate corresponding pathData outputs.\n",
    "\n",
    "    Args:\n",
    "        file_or_folder (str): Session name or name of .asc file.\n",
    "                              e.g., 'mBB041d20161006' or 'mBB041d20161006.asc'\n",
    "        root (str): Root folder, e.g., 'G:\\\\'\n",
    "        sep (str): Separator, e.g., '\\\\' or '/'\n",
    "\n",
    "    Returns:\n",
    "        dict: A dictionary containing session-related path data.\n",
    "    \"\"\"\n",
    "    filename = file_or_folder\n",
    "    # Split animal name and date\n",
    "    animal_name, date = filename.split(\"d\", 1)\n",
    "    animal_name = animal_name[1:]  # Remove leading 'm'\n",
    "    date = date[:9]\n",
    "    session_folder = f\"m{animal_name}{date}\"\n",
    "\n",
    "    if \".asc\" in file_or_folder:  # Input is an .asc file\n",
    "        behavioral_data_path = os.path.join(root, animal_name, session_folder, \"behavior\", filename)\n",
    "        suptitle_name = filename.split(\".asc\")[0]\n",
    "        save_fig_name = suptitle_name\n",
    "        videopath = os.path.join(root, animal_name, session_folder, \"pupil\")\n",
    "        sorted_folder_location = lick_path = None\n",
    "    else:  # Input is the folder\n",
    "        filepath = os.path.join(root, animal_name, session_folder, \"behavior\")\n",
    "        all_files = list(Path(filepath).iterdir())\n",
    "        file_ind = [\n",
    "            file.name for file in all_files if file_or_folder + \".asc\" in file.name\n",
    "        ]\n",
    "\n",
    "        if file_ind:\n",
    "            behavioral_data_path = os.path.join(filepath, file_ind[0])\n",
    "            suptitle_name = file_ind[0][:-4]  # Remove '.asc'\n",
    "        else:  # If looking at a folder without behavioral data\n",
    "            suptitle_name = None\n",
    "            behavioral_data_path = None\n",
    "\n",
    "        save_fig_name = suptitle_name\n",
    "        videopath = os.path.join(root, animal_name, session_folder, \"pupil\")\n",
    "\n",
    "        if file_or_folder[-1].isalpha():  # If last character is alphabetical\n",
    "            sorted_folder_location = os.path.join(\n",
    "                root, animal_name, session_folder, \"sorted\", f\"session {file_or_folder[-1]}\"\n",
    "            )\n",
    "            lick_path = os.path.join(root, animal_name, session_folder, \"lick\", file_or_folder[-1])\n",
    "        else:\n",
    "            sorted_folder_location = os.path.join(root, animal_name, session_folder, \"sorted\", \"session\")\n",
    "            lick_path = os.path.join(root, animal_name, session_folder, \"lick\", \"session\")\n",
    "\n",
    "    # Construct output dictionary\n",
    "    path_data = {\n",
    "        \"aniName\": animal_name,\n",
    "        \"suptitleName\": suptitle_name,\n",
    "        \"sessionFolder\": session_folder,\n",
    "        \"sortedFolder\": sorted_folder_location,\n",
    "        \"animalName\": animal_name,\n",
    "        \"saveFigName\": save_fig_name,\n",
    "        \"saveFigFolder\": os.path.join(root, animal_name, session_folder, \"figures\"),\n",
    "        \"baseFolder\": os.path.join(root, animal_name, session_folder),\n",
    "        \"behavioralDataPath\": behavioral_data_path,\n",
    "        \"date\": date,\n",
    "        \"videopath\": videopath,\n",
    "        \"lickPath\": lick_path,\n",
    "    }\n",
    "\n",
    "    # Check for neuralynx folders\n",
    "    base_folder = path_data[\"baseFolder\"]\n",
    "    nlynx_folder = Path(base_folder, \"neuralynx\")\n",
    "    if nlynx_folder.is_dir():\n",
    "        path_data.update(\n",
    "            {\n",
    "                \"nLynxFolder\": f\"{base_folder}neuralynx{sep}\",\n",
    "                \"nLynxFolderOpto\": f\"{base_folder}neuralynx{sep}opto{sep}\",\n",
    "                \"nLynxFolderSession\": f\"{base_folder}neuralynx{sep}session{sep}\",\n",
    "            }\n",
    "        )\n",
    "\n",
    "    return path_data\n"
   ]
  },
  {
   "cell_type": "code",
   "execution_count": null,
   "metadata": {},
   "outputs": [],
   "source": [
    "session = 'mZS061d20210328'\n",
    "root = curr_computer()\n",
    "dir = parse_session_string(session, root)"
   ]
  },
  {
   "cell_type": "code",
   "execution_count": 15,
   "metadata": {},
   "outputs": [
    {
     "data": {
      "text/plain": [
       "False"
      ]
     },
     "execution_count": 15,
     "metadata": {},
     "output_type": "execute_result"
    }
   ],
   "source": [
    "os.path.exists(Path('F:\\\\ZS061\\\\mZS06120210328\\\\behavior'))"
   ]
  },
  {
   "cell_type": "code",
   "execution_count": 11,
   "metadata": {},
   "outputs": [
    {
     "ename": "TypeError",
     "evalue": "'module' object is not callable",
     "output_type": "error",
     "traceback": [
      "\u001b[1;31m---------------------------------------------------------------------------\u001b[0m",
      "\u001b[1;31mTypeError\u001b[0m                                 Traceback (most recent call last)",
      "Cell \u001b[1;32mIn[11], line 1\u001b[0m\n\u001b[1;32m----> 1\u001b[0m \u001b[38;5;28mdir\u001b[39m \u001b[38;5;241m=\u001b[39m \u001b[43mos\u001b[49m\u001b[38;5;241;43m.\u001b[39;49m\u001b[43mpath\u001b[49m\u001b[43m(\u001b[49m\u001b[38;5;124;43m'\u001b[39;49m\u001b[38;5;124;43mF:\u001b[39;49m\u001b[38;5;124;43m\\\u001b[39;49m\u001b[38;5;124;43mZS061\u001b[39;49m\u001b[38;5;124;43m\\\u001b[39;49m\u001b[38;5;124;43mmZS061d20210328\u001b[39;49m\u001b[38;5;130;43;01m\\b\u001b[39;49;00m\u001b[38;5;124;43mehavior\u001b[39;49m\u001b[38;5;124;43m'\u001b[39;49m\u001b[43m)\u001b[49m\n",
      "\u001b[1;31mTypeError\u001b[0m: 'module' object is not callable"
     ]
    }
   ],
   "source": [
    "dir = os.path('F:\\ZS061\\mZS061d20210328\\behavior')"
   ]
  }
 ],
 "metadata": {
  "kernelspec": {
   "display_name": "playGround",
   "language": "python",
   "name": "python3"
  },
  "language_info": {
   "codemirror_mode": {
    "name": "ipython",
    "version": 3
   },
   "file_extension": ".py",
   "mimetype": "text/x-python",
   "name": "python",
   "nbconvert_exporter": "python",
   "pygments_lexer": "ipython3",
   "version": "3.10.0"
  }
 },
 "nbformat": 4,
 "nbformat_minor": 2
}
