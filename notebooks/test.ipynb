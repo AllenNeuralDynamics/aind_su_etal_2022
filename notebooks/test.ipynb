{
 "cells": [
  {
   "cell_type": "code",
   "execution_count": 58,
   "metadata": {},
   "outputs": [],
   "source": [
    "import numpy as np\n",
    "import pandas as pd\n",
    "import sys\n",
    "from pathlib import Path\n",
    "sys.path.append('..') \n",
    "import platform\n",
    "import os\n",
    "from pathlib import Path\n",
    "import shutil\n",
    "from utils.basics.data_org import curr_computer, move_subfolders\n",
    "from pathlib import Path\n",
    "import shutil\n",
    "from utils.behavior.session_utils import load_session_df, parse_session_string\n",
    "from utils.behavior.lick_analysis import clean_up_licks, parse_lick_trains\n",
    "from scipy.io import loadmat\n",
    "from itertools import chain\n",
    "from matplotlib import pyplot as plt\n",
    "from IPython.display import display\n",
    "from scipy.signal import find_peaks\n",
    "from harp.clock import align_timestamps_to_anchor_points\n",
    "import json\n",
    "# %matplotlib inline\n",
    "%matplotlib widget"
   ]
  },
  {
   "cell_type": "code",
   "execution_count": null,
   "metadata": {},
   "outputs": [],
   "source": [
    "session_df, licks_L, licks_R = load_session_df('m699461d20231222')"
   ]
  },
  {
   "cell_type": "code",
   "execution_count": 54,
   "metadata": {},
   "outputs": [],
   "source": [
    "licks_L, licks_R, fig = clean_up_licks(licks_L, licks_R, plot=False)\n",
    "parsed_licks_L, _ = parse_lick_trains(licks_L)"
   ]
  },
  {
   "cell_type": "code",
   "execution_count": null,
   "metadata": {},
   "outputs": [],
   "source": [
    "session = 'm699461d20231222'\n",
    "label = 'CombinewithKH'\n",
    "def load_session_FP(session, label, plot=False):\n",
    "    session_df, licks_L, _ = load_session_df(session)\n",
    "    session_path = parse_session_string(session)\n",
    "    file_name = f'{session}_photometry{label}.mat'\n",
    "    photometry_file = os.path.join(session_path['sortedFolder'], file_name)\n",
    "    photometry_json = os.path.join(session_path['photometryPath'], f'{session}.json')\n",
    "    signal_mat = loadmat(photometry_file)\n",
    "    with open(photometry_json, \"r\") as file:\n",
    "        location_info = json.load(file)\n",
    "    dFF = signal_mat['dFF']    \n",
    "    # load photometry data and align to behavior\n",
    "    signal_region = {}\n",
    "    for key, value in location_info.items():\n",
    "        print(f\"Region {value} recorded at channel {key}\")\n",
    "        signal_region[value] = np.array(dFF[int(key)][0])\n",
    "    signal_region['time'] = np.squeeze(np.array(signal_mat['timeFIP']))\n",
    "    signal_region['time_in_beh'] = align_timestamps_to_anchor_points(\n",
    "        signal_region['time'],\n",
    "        np.array(signal_mat['trialStarts'][0]),\n",
    "        session_df['CSon'].values\n",
    "    )\n",
    "    if plot:\n",
    "        fig, ax = plt.subplots()\n",
    "        ax.plot(signal_region['time_in_beh'], signal_region[location_info['0']], label='channel 0')\n",
    "        ax2 = ax.twinx()\n",
    "        ax2.hist(licks_L, bins=100, alpha=0.5, label='Licks L')\n",
    "        ax.set_title('Alignment Check')\n",
    "        plt.show()\n",
    "        return signal_region, fig\n",
    "    else:\n",
    "        return signal_region\n"
   ]
  },
  {
   "cell_type": "code",
   "execution_count": 80,
   "metadata": {},
   "outputs": [
    {
     "ename": "TypeError",
     "evalue": "load_session_df() missing 1 required positional argument: 'label'",
     "output_type": "error",
     "traceback": [
      "\u001b[1;31m---------------------------------------------------------------------------\u001b[0m",
      "\u001b[1;31mTypeError\u001b[0m                                 Traceback (most recent call last)",
      "Cell \u001b[1;32mIn[80], line 3\u001b[0m\n\u001b[0;32m      1\u001b[0m session \u001b[38;5;241m=\u001b[39m \u001b[38;5;124m'\u001b[39m\u001b[38;5;124mm699461d20231222\u001b[39m\u001b[38;5;124m'\u001b[39m\n\u001b[0;32m      2\u001b[0m label \u001b[38;5;241m=\u001b[39m \u001b[38;5;124m'\u001b[39m\u001b[38;5;124mCombinewithKH\u001b[39m\u001b[38;5;124m'\u001b[39m\n\u001b[1;32m----> 3\u001b[0m signal_region \u001b[38;5;241m=\u001b[39m \u001b[43mload_session_df\u001b[49m\u001b[43m(\u001b[49m\u001b[43msession\u001b[49m\u001b[43m,\u001b[49m\u001b[43m \u001b[49m\u001b[43mlabel\u001b[49m\u001b[43m,\u001b[49m\u001b[43m \u001b[49m\u001b[43mplot\u001b[49m\u001b[38;5;241;43m=\u001b[39;49m\u001b[38;5;28;43;01mFalse\u001b[39;49;00m\u001b[43m)\u001b[49m\n",
      "Cell \u001b[1;32mIn[79], line 4\u001b[0m, in \u001b[0;36mload_session_df\u001b[1;34m(session, label, plot)\u001b[0m\n\u001b[0;32m      3\u001b[0m \u001b[38;5;28;01mdef\u001b[39;00m \u001b[38;5;21mload_session_df\u001b[39m(session, label, plot\u001b[38;5;241m=\u001b[39m\u001b[38;5;28;01mFalse\u001b[39;00m):\n\u001b[1;32m----> 4\u001b[0m     session_df, licks_L, _ \u001b[38;5;241m=\u001b[39m \u001b[43mload_session_df\u001b[49m\u001b[43m(\u001b[49m\u001b[43msession\u001b[49m\u001b[43m)\u001b[49m\n\u001b[0;32m      5\u001b[0m     session_path \u001b[38;5;241m=\u001b[39m parse_session_string(session)\n\u001b[0;32m      6\u001b[0m     file_name \u001b[38;5;241m=\u001b[39m \u001b[38;5;124mf\u001b[39m\u001b[38;5;124m'\u001b[39m\u001b[38;5;132;01m{\u001b[39;00msession\u001b[38;5;132;01m}\u001b[39;00m\u001b[38;5;124m_photometry\u001b[39m\u001b[38;5;132;01m{\u001b[39;00mlabel\u001b[38;5;132;01m}\u001b[39;00m\u001b[38;5;124m.mat\u001b[39m\u001b[38;5;124m'\u001b[39m\n",
      "\u001b[1;31mTypeError\u001b[0m: load_session_df() missing 1 required positional argument: 'label'"
     ]
    }
   ],
   "source": [
    "session = 'm699461d20231222'\n",
    "label = 'CombinewithKH'\n",
    "signal_region = load_session_df(session, label, plot=False)"
   ]
  }
 ],
 "metadata": {
  "kernelspec": {
   "display_name": "playGround",
   "language": "python",
   "name": "python3"
  },
  "language_info": {
   "codemirror_mode": {
    "name": "ipython",
    "version": 3
   },
   "file_extension": ".py",
   "mimetype": "text/x-python",
   "name": "python",
   "nbconvert_exporter": "python",
   "pygments_lexer": "ipython3",
   "version": "3.10.0"
  }
 },
 "nbformat": 4,
 "nbformat_minor": 2
}
